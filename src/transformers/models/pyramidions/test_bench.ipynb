{
 "cells": [
  {
   "cell_type": "code",
   "execution_count": 33,
   "metadata": {},
   "outputs": [],
   "source": [
    "import math\n",
    "import copy\n",
    "import random\n",
    "from turtle import forward\n",
    "from typing import Optional, Tuple, List, Union\n",
    "\n",
    "import torch\n",
    "from torch import Tensor, nn\n",
    "\n",
    "import matplotlib.pyplot as plt\n",
    "from tqdm.auto import tqdm\n",
    "\n",
    "from transformers import EvalPrediction\n",
    "import numpy as np"
   ]
  },
  {
   "cell_type": "markdown",
   "metadata": {},
   "source": [
    "# Differentiable TopK-Pooling"
   ]
  },
  {
   "cell_type": "markdown",
   "metadata": {},
   "source": [
    "At each layer only $k$ token-embeddings are selected and passed to the next layer.\n",
    "\n",
    "To make this operation differentiable it cannot use a hard selection scheme.\n",
    "\n",
    "The authors propose a an algorithm which uses two steps:\n",
    "\n",
    "1. Sorting\n",
    "   * The embeddings passed into the current layer are scored using a linear operation (e.g. dot product)\n",
    "   * The embeddings get sorted according to their score\n",
    "   * Question: Sorting is a non-differentiable or partially non-differentiable?\n",
    "   * Note: After selection the embeddings are re-arranged according to their original order????? This does not make any sense since they are positionally encoded???"
   ]
  },
  {
   "cell_type": "code",
   "execution_count": 34,
   "metadata": {},
   "outputs": [],
   "source": [
    "x = torch.randint(0, 1000, (16, 512, 128))"
   ]
  },
  {
   "cell_type": "code",
   "execution_count": 35,
   "metadata": {},
   "outputs": [
    {
     "data": {
      "text/plain": [
       "tensor([[[123,  71,  97,  ...,  88,  24,  85],\n",
       "         [ 96, 103,  73,  ...,  46,  66, 113],\n",
       "         [104,  36,  55,  ..., 105,  22,  89],\n",
       "         ...,\n",
       "         [113,  18,  39,  ...,  67,  45,  32],\n",
       "         [ 32,  13,  10,  ...,  77,   9,  56],\n",
       "         [ 98,  49,  57,  ...,  52,  10,  19]],\n",
       "\n",
       "        [[ 19, 107, 127,  ...,  45,  28,  70],\n",
       "         [ 42,  48,  97,  ..., 100,  86,  17],\n",
       "         [ 48,  43,  98,  ...,  80,  55,  96],\n",
       "         ...,\n",
       "         [ 70,  22,  10,  ...,  28,  85,  73],\n",
       "         [108,  37,   7,  ...,   0, 125,  24],\n",
       "         [ 47,  86, 121,  ...,  54,   9,   0]],\n",
       "\n",
       "        [[127, 125,   1,  ...,  16,   7,  50],\n",
       "         [114,  65,  84,  ...,  96,  11,  13],\n",
       "         [ 73,  54, 106,  ...,  20,  24,  25],\n",
       "         ...,\n",
       "         [ 65,  12,  15,  ...,  54,  40,   4],\n",
       "         [ 61,  33,  64,  ..., 110, 126,  29],\n",
       "         [ 89,  53,  60,  ...,  71,  28,  95]],\n",
       "\n",
       "        ...,\n",
       "\n",
       "        [[ 72,  66,  34,  ...,  77,  70,  84],\n",
       "         [ 91, 125, 114,  ..., 102,   8,  98],\n",
       "         [ 87,  34,  96,  ...,   0,  52,  60],\n",
       "         ...,\n",
       "         [ 86,  62,  27,  ...,  29,   2,  81],\n",
       "         [ 89, 109,  14,  ...,   8,  44,  10],\n",
       "         [ 76,  14,  91,  ...,  78, 109,  87]],\n",
       "\n",
       "        [[116,  40,  24,  ...,  32, 108,  13],\n",
       "         [109,  75,  48,  ...,  44,  51, 101],\n",
       "         [ 15,  43,  76,  ...,  70,  98,  48],\n",
       "         ...,\n",
       "         [ 65,  58,  45,  ..., 107,  98,  70],\n",
       "         [125,  37,  50,  ...,  24,  62,   4],\n",
       "         [ 85,  89,  13,  ...,  66, 109,  65]],\n",
       "\n",
       "        [[115,  39,  77,  ...,  66,  70,  40],\n",
       "         [ 61, 123, 127,  ...,  78,  41,   8],\n",
       "         [ 27,  66,  79,  ...,  47,  15,  54],\n",
       "         ...,\n",
       "         [ 52,  68,   1,  ..., 116, 119,  23],\n",
       "         [  2,  44,  32,  ...,  49, 113,  63],\n",
       "         [106,  78, 126,  ...,  61,  94,  46]]])"
      ]
     },
     "execution_count": 35,
     "metadata": {},
     "output_type": "execute_result"
    }
   ],
   "source": [
    "torch.sort(x).indices"
   ]
  },
  {
   "cell_type": "code",
   "execution_count": 36,
   "metadata": {},
   "outputs": [],
   "source": [
    "def peaked_softmax(x: Tensor, alpha: float = 0.1, dim: int = 0):\n",
    "    x = x * alpha\n",
    "    softmax = nn.Softmax(dim=dim)\n",
    "    return softmax(x)\n"
   ]
  },
  {
   "cell_type": "code",
   "execution_count": 37,
   "metadata": {},
   "outputs": [
    {
     "data": {
      "image/png": "[encoded data removed]",
      "text/plain": [
       "<Figure size 432x288 with 1 Axes>"
      ]
     },
     "metadata": {
      "needs_background": "light"
     },
     "output_type": "display_data"
    }
   ],
   "source": [
    "x = torch.randn(10)\n",
    "for i in torch.linspace(1, 3, 10):\n",
    "    plt.plot(peaked_softmax(x, alpha=i.item()).numpy())"
   ]
  },
  {
   "cell_type": "code",
   "execution_count": 38,
   "metadata": {},
   "outputs": [],
   "source": [
    "class TopKPooler(nn.Module):\n",
    "\n",
    "    def __init__(self, embedding_dim: int) -> None:\n",
    "        super().__init__()\n",
    "        self.scorer = nn.Sequential(\n",
    "            nn.Linear(in_features=embedding_dim, out_features=1),\n",
    "            nn.Sigmoid()\n",
    "        )\n",
    "    \n",
    "    def forward(self, embeddings: Tensor):\n",
    "        \"\"\"_summary_\n",
    "\n",
    "        Args:\n",
    "            embeddings (Tensor): tensor of shape (batch_size, n_embeddings,\n",
    "        \"\"\"\n",
    "        # 1. Score embeddings\n",
    "        scores = self.scorer(embeddings)\n",
    "        \n",
    "        # 2. Sort embeddings according to their score in descending order\n",
    "        embeddings_sorted, scores_sorted = self.sort_embeddings(embeddings=embeddings, scores=scores)\n",
    "\n",
    "        # 3. Create new tensors with pairs of embeddings and scores\n",
    "        # Create embeddings pairs\n",
    "\n",
    "        middle_idx = int(embeddings.size(1) // 2)\n",
    "        #print(middle_idx)\n",
    "\n",
    "        left_embeddings, right_embeddings = embeddings_sorted[:, :middle_idx, :], embeddings_sorted[:, middle_idx:, :]\n",
    "        embedding_pairs = torch.cat((left_embeddings.unsqueeze(3), right_embeddings.flip(1).unsqueeze(3)), dim=3)\n",
    "        #print(embedding_pairs.size())  # shape: bs, seqlen // 2, n_dim, 2\n",
    "\n",
    "        # Create score pairs\n",
    "\n",
    "        left_scores, right_scores = scores_sorted[:, :middle_idx, :], scores_sorted[:, middle_idx:, :]\n",
    "        score_pairs = torch.cat((left_scores.unsqueeze(3), right_scores.flip(1).unsqueeze(3)), dim=3)\n",
    "        #print(score_pairs.size())  # shape: bs, seqlen // 2, 1, 2\n",
    "\n",
    "        score_pairs_softmaxed = peaked_softmax(score_pairs, alpha=5.0, dim=3)\n",
    "        #print(score_pairs_softmaxed.size())\n",
    "\n",
    "        new_embeddings = (embedding_pairs * score_pairs_softmaxed).sum(dim=3)\n",
    "        #print(new_embeddings.size())\n",
    "        return new_embeddings    \n",
    "    \n",
    "    def sort_embeddings(self, embeddings: Tensor, scores: Tensor):\n",
    "        \"\"\"Sorts the embeddings and score according to their score in descending order\n",
    "\n",
    "        Args:\n",
    "            embeddings (Tensor): tensor of shape (batch_size, n_embeddings, n_dims)\n",
    "            scores (Tensor): (batch_size, n_embeddings, 1)\n",
    "\n",
    "        Returns:\n",
    "            _type_: Sorted embeddings and scores\n",
    "        \"\"\"\n",
    "        sort_idc = scores.sort(descending=True, dim=1).indices\n",
    "        #print(sort_idc.size())\n",
    "        \n",
    "        embeddings_sorted = self.sort_by_indices(embeddings, sort_idc)  #???\n",
    "        #print(embeddings_sorted.size())\n",
    "        \n",
    "        scores_sorted = self.sort_by_indices(scores, sort_idc)  #???\n",
    "        #print(scores_sorted.size())\n",
    "        \n",
    "        return embeddings_sorted, scores_sorted\n",
    "    \n",
    "    @staticmethod\n",
    "    def sort_by_indices(embeddings, indices):\n",
    "        sorted_batches = []\n",
    "        for batch_embeddings, batch_scores in zip(embeddings, indices):\n",
    "            sorted_batches.append(batch_embeddings[batch_scores.reshape(-1)].unsqueeze(0))\n",
    "        return torch.cat(sorted_batches, dim=0)\n",
    "\n",
    "            "
   ]
  },
  {
   "cell_type": "code",
   "execution_count": 39,
   "metadata": {},
   "outputs": [
    {
     "data": {
      "text/plain": [
       "Sequential(\n",
       "  (0): TopKPooler(\n",
       "    (scorer): Sequential(\n",
       "      (0): Linear(in_features=768, out_features=1, bias=True)\n",
       "      (1): Sigmoid()\n",
       "    )\n",
       "  )\n",
       "  (1): TopKPooler(\n",
       "    (scorer): Sequential(\n",
       "      (0): Linear(in_features=768, out_features=1, bias=True)\n",
       "      (1): Sigmoid()\n",
       "    )\n",
       "  )\n",
       "  (2): TopKPooler(\n",
       "    (scorer): Sequential(\n",
       "      (0): Linear(in_features=768, out_features=1, bias=True)\n",
       "      (1): Sigmoid()\n",
       "    )\n",
       "  )\n",
       "  (3): TopKPooler(\n",
       "    (scorer): Sequential(\n",
       "      (0): Linear(in_features=768, out_features=1, bias=True)\n",
       "      (1): Sigmoid()\n",
       "    )\n",
       "  )\n",
       "  (4): TopKPooler(\n",
       "    (scorer): Sequential(\n",
       "      (0): Linear(in_features=768, out_features=1, bias=True)\n",
       "      (1): Sigmoid()\n",
       "    )\n",
       "  )\n",
       "  (5): TopKPooler(\n",
       "    (scorer): Sequential(\n",
       "      (0): Linear(in_features=768, out_features=1, bias=True)\n",
       "      (1): Sigmoid()\n",
       "    )\n",
       "  )\n",
       "  (6): TopKPooler(\n",
       "    (scorer): Sequential(\n",
       "      (0): Linear(in_features=768, out_features=1, bias=True)\n",
       "      (1): Sigmoid()\n",
       "    )\n",
       "  )\n",
       "  (7): TopKPooler(\n",
       "    (scorer): Sequential(\n",
       "      (0): Linear(in_features=768, out_features=1, bias=True)\n",
       "      (1): Sigmoid()\n",
       "    )\n",
       "  )\n",
       "  (8): TopKPooler(\n",
       "    (scorer): Sequential(\n",
       "      (0): Linear(in_features=768, out_features=1, bias=True)\n",
       "      (1): Sigmoid()\n",
       "    )\n",
       "  )\n",
       ")"
      ]
     },
     "execution_count": 39,
     "metadata": {},
     "output_type": "execute_result"
    }
   ],
   "source": [
    "n_layers = torch.log2(torch.tensor(512)).long().item()\n",
    "\n",
    "pyramid = nn.Sequential(*(\n",
    "    TopKPooler(embedding_dim=768)\n",
    "    for _ in range(n_layers)\n",
    "))\n",
    "pyramid"
   ]
  },
  {
   "cell_type": "code",
   "execution_count": 40,
   "metadata": {},
   "outputs": [
    {
     "name": "stdout",
     "output_type": "stream",
     "text": [
      "torch.Size([8, 512, 768])\n",
      "torch.Size([8, 768])\n"
     ]
    }
   ],
   "source": [
    "src = torch.randn(8, 512, 768)\n",
    "trgt = src[:, 64, :]\n",
    "print(src.size())\n",
    "print(trgt.size())"
   ]
  },
  {
   "cell_type": "code",
   "execution_count": 41,
   "metadata": {},
   "outputs": [
    {
     "data": {
      "text/plain": [
       "torch.Size([8, 1, 768])"
      ]
     },
     "execution_count": 41,
     "metadata": {},
     "output_type": "execute_result"
    }
   ],
   "source": [
    "out = pyramid(src)\n",
    "out.size()"
   ]
  },
  {
   "cell_type": "code",
   "execution_count": 42,
   "metadata": {},
   "outputs": [
    {
     "name": "stderr",
     "output_type": "stream",
     "text": [
      "Loss: 0.9736: 100%|██████████| 10/10 [00:00<00:00, 20.28it/s]\n"
     ]
    }
   ],
   "source": [
    "optim = torch.optim.SGD(params=pyramid.parameters(), lr=0.1)\n",
    "pbar = tqdm(list(range(10)))\n",
    "for _ in pbar:\n",
    "    out = pyramid(src).squeeze(1)\n",
    "    loss_fct = nn.MSELoss()\n",
    "    loss = loss_fct(out, trgt)\n",
    "    pbar.set_description(f\"Loss: {round(loss.item(), 4)}\")\n",
    "    loss.backward()\n",
    "    optim.step()\n",
    "    optim.zero_grad()\n"
   ]
  },
  {
   "cell_type": "code",
   "execution_count": 43,
   "metadata": {},
   "outputs": [
    {
     "name": "stdout",
     "output_type": "stream",
     "text": [
      "tensor([[-0.0054,  0.0102, -0.0646,  ...,  0.0714, -0.0505,  0.0976],\n",
      "        [ 0.0732,  0.0536, -0.0883,  ...,  0.0018,  0.0057, -0.0369],\n",
      "        [ 0.0680, -0.0166,  0.0343,  ...,  0.1024, -0.0593, -0.0227],\n",
      "        ...,\n",
      "        [ 0.0277,  0.0488, -0.0600,  ..., -0.0671,  0.1369,  0.0392],\n",
      "        [-0.0804,  0.0356,  0.0194,  ..., -0.0242,  0.0181, -0.0136],\n",
      "        [ 0.0296,  0.0487, -0.0442,  ..., -0.0638, -0.0286,  0.1441]],\n",
      "       grad_fn=<SqueezeBackward1>)\n",
      "tensor([[-2.1768e-01,  2.1552e-01, -3.8509e-01,  ...,  1.7892e+00,\n",
      "          3.0278e-01, -5.2488e-01],\n",
      "        [-3.1580e-02,  1.2799e+00, -8.3881e-01,  ..., -6.6179e-01,\n",
      "         -6.9448e-01, -1.3409e+00],\n",
      "        [-1.2001e-01,  7.4544e-02, -2.0118e-01,  ..., -8.8894e-01,\n",
      "          8.9552e-02, -3.7010e-01],\n",
      "        ...,\n",
      "        [-1.4209e+00,  2.4367e-01,  6.5688e-01,  ...,  8.7199e-01,\n",
      "          3.3947e-01, -5.0424e-01],\n",
      "        [-2.1058e+00,  1.0508e+00,  2.1872e+00,  ..., -1.6396e+00,\n",
      "         -1.0057e+00, -2.8931e-01],\n",
      "        [ 4.8227e-04, -1.4010e-01, -9.6459e-01,  ...,  4.1072e-01,\n",
      "          3.6692e-01, -2.6483e-01]])\n"
     ]
    }
   ],
   "source": [
    "out = pyramid(src).squeeze(1)\n",
    "print(out)\n",
    "print(trgt)"
   ]
  },
  {
   "cell_type": "code",
   "execution_count": 44,
   "metadata": {},
   "outputs": [
    {
     "data": {
      "text/plain": [
       "tensor([[-2.1768e-01,  2.1552e-01, -3.8509e-01,  ...,  1.7892e+00,\n",
       "          3.0278e-01, -5.2488e-01],\n",
       "        [-3.1580e-02,  1.2799e+00, -8.3881e-01,  ..., -6.6179e-01,\n",
       "         -6.9448e-01, -1.3409e+00],\n",
       "        [-1.2001e-01,  7.4544e-02, -2.0118e-01,  ..., -8.8894e-01,\n",
       "          8.9552e-02, -3.7010e-01],\n",
       "        ...,\n",
       "        [-1.4209e+00,  2.4367e-01,  6.5688e-01,  ...,  8.7199e-01,\n",
       "          3.3947e-01, -5.0424e-01],\n",
       "        [-2.1058e+00,  1.0508e+00,  2.1872e+00,  ..., -1.6396e+00,\n",
       "         -1.0057e+00, -2.8931e-01],\n",
       "        [ 4.8227e-04, -1.4010e-01, -9.6459e-01,  ...,  4.1072e-01,\n",
       "          3.6692e-01, -2.6483e-01]])"
      ]
     },
     "execution_count": 44,
     "metadata": {},
     "output_type": "execute_result"
    }
   ],
   "source": [
    "trgt"
   ]
  },
  {
   "cell_type": "code",
   "execution_count": 45,
   "metadata": {},
   "outputs": [
    {
     "data": {
      "text/plain": [
       "torch.Size([16, 512])"
      ]
     },
     "execution_count": 45,
     "metadata": {},
     "output_type": "execute_result"
    }
   ],
   "source": [
    "torch.randn(16, 512, 1).squeeze(2).size()"
   ]
  },
  {
   "cell_type": "code",
   "execution_count": 46,
   "metadata": {},
   "outputs": [
    {
     "name": "stdout",
     "output_type": "stream",
     "text": [
      "torch.Size([2, 3, 2])\n",
      "torch.Size([2, 3, 1])\n"
     ]
    }
   ],
   "source": [
    "e = torch.tensor([\n",
    "    [\n",
    "        [0.1, 1.9],\n",
    "        [0.0, 0.5],\n",
    "        [0.7, 0.9]\n",
    "    ],\n",
    "    [\n",
    "        [0.0, 0.0],\n",
    "        [0.0, 0.5],\n",
    "        [0.7, 0.9]\n",
    "    ]\n",
    "])\n",
    "print(e.size())\n",
    "\n",
    "s = torch.tensor([\n",
    "    [\n",
    "        [0],\n",
    "        [2],\n",
    "        [1]\n",
    "    ],\n",
    "    [\n",
    "        [2],\n",
    "        [1],\n",
    "        [0]\n",
    "    ],\n",
    "])\n",
    "print(s.size())"
   ]
  },
  {
   "cell_type": "code",
   "execution_count": 47,
   "metadata": {},
   "outputs": [
    {
     "data": {
      "text/plain": [
       "tensor([[9, 8, 7, 6, 5, 4, 3, 2, 1, 0],\n",
       "        [9, 8, 7, 6, 5, 4, 3, 2, 1, 0]])"
      ]
     },
     "execution_count": 47,
     "metadata": {},
     "output_type": "execute_result"
    }
   ],
   "source": [
    "torch.arange(10).repeat(2).reshape(2, -1).flip(1)"
   ]
  },
  {
   "cell_type": "markdown",
   "metadata": {},
   "source": [
    "# Model Architecture\n",
    "\n",
    "* Pyramdion only serves as encoder model?\n",
    "* Which architecture to use for decoder?"
   ]
  },
  {
   "cell_type": "code",
   "execution_count": 48,
   "metadata": {},
   "outputs": [],
   "source": [
    "from transformers import PyramidionsConfig, PyramidionsModel, RobertaTokenizer, PyramidionsForSequenceClassification"
   ]
  },
  {
   "cell_type": "code",
   "execution_count": 49,
   "metadata": {},
   "outputs": [
    {
     "name": "stderr",
     "output_type": "stream",
     "text": [
      "loading file https://huggingface.co/roberta-base/resolve/main/vocab.json from cache at /Users/lennartkeller/.cache/huggingface/transformers/d3ccdbfeb9aaa747ef20432d4976c32ee3fa69663b379deb253ccfce2bb1fdc5.d67d6b367eb24ab43b08ad55e014cf254076934f71d832bbab9ad35644a375ab\n",
      "loading file https://huggingface.co/roberta-base/resolve/main/merges.txt from cache at /Users/lennartkeller/.cache/huggingface/transformers/cafdecc90fcab17011e12ac813dd574b4b3fea39da6dd817813efa010262ff3f.5d12962c5ee615a4c803841266e9c3be9a691a924f72d395d3a6c6c81157788b\n",
      "loading file https://huggingface.co/roberta-base/resolve/main/added_tokens.json from cache at None\n",
      "loading file https://huggingface.co/roberta-base/resolve/main/special_tokens_map.json from cache at None\n",
      "loading file https://huggingface.co/roberta-base/resolve/main/tokenizer_config.json from cache at None\n",
      "loading configuration file https://huggingface.co/roberta-base/resolve/main/config.json from cache at /Users/lennartkeller/.cache/huggingface/transformers/733bade19e5f0ce98e6531021dd5180994bb2f7b8bd7e80c7968805834ba351e.35205c6cfc956461d8515139f0f8dd5d207a2f336c0c3a83b4bc8dca3518e37b\n",
      "Model config RobertaConfig {\n",
      "  \"_name_or_path\": \"roberta-base\",\n",
      "  \"architectures\": [\n",
      "    \"RobertaForMaskedLM\"\n",
      "  ],\n",
      "  \"attention_probs_dropout_prob\": 0.1,\n",
      "  \"bos_token_id\": 0,\n",
      "  \"classifier_dropout\": null,\n",
      "  \"eos_token_id\": 2,\n",
      "  \"hidden_act\": \"gelu\",\n",
      "  \"hidden_dropout_prob\": 0.1,\n",
      "  \"hidden_size\": 768,\n",
      "  \"initializer_range\": 0.02,\n",
      "  \"intermediate_size\": 3072,\n",
      "  \"layer_norm_eps\": 1e-05,\n",
      "  \"max_position_embeddings\": 514,\n",
      "  \"model_type\": \"roberta\",\n",
      "  \"num_attention_heads\": 12,\n",
      "  \"num_hidden_layers\": 12,\n",
      "  \"pad_token_id\": 1,\n",
      "  \"position_embedding_type\": \"absolute\",\n",
      "  \"transformers_version\": \"4.19.0.dev0\",\n",
      "  \"type_vocab_size\": 1,\n",
      "  \"use_cache\": true,\n",
      "  \"vocab_size\": 50265\n",
      "}\n",
      "\n"
     ]
    }
   ],
   "source": [
    "tokenizer = RobertaTokenizer.from_pretrained(\"roberta-base\")"
   ]
  },
  {
   "cell_type": "code",
   "execution_count": 50,
   "metadata": {},
   "outputs": [],
   "source": [
    "position_ids = torch.arange(\n",
    "            1 + 1, 512 + 1 + 1, dtype=torch.long)"
   ]
  },
  {
   "cell_type": "code",
   "execution_count": 51,
   "metadata": {},
   "outputs": [
    {
     "data": {
      "text/plain": [
       "tensor([  2,   3,   4,   5,   6,   7,   8,   9,  10,  11,  12,  13,  14,  15,\n",
       "         16,  17,  18,  19,  20,  21,  22,  23,  24,  25,  26,  27,  28,  29,\n",
       "         30,  31,  32,  33,  34,  35,  36,  37,  38,  39,  40,  41,  42,  43,\n",
       "         44,  45,  46,  47,  48,  49,  50,  51,  52,  53,  54,  55,  56,  57,\n",
       "         58,  59,  60,  61,  62,  63,  64,  65,  66,  67,  68,  69,  70,  71,\n",
       "         72,  73,  74,  75,  76,  77,  78,  79,  80,  81,  82,  83,  84,  85,\n",
       "         86,  87,  88,  89,  90,  91,  92,  93,  94,  95,  96,  97,  98,  99,\n",
       "        100, 101, 102, 103, 104, 105, 106, 107, 108, 109, 110, 111, 112, 113,\n",
       "        114, 115, 116, 117, 118, 119, 120, 121, 122, 123, 124, 125, 126, 127,\n",
       "        128, 129, 130, 131, 132, 133, 134, 135, 136, 137, 138, 139, 140, 141,\n",
       "        142, 143, 144, 145, 146, 147, 148, 149, 150, 151, 152, 153, 154, 155,\n",
       "        156, 157, 158, 159, 160, 161, 162, 163, 164, 165, 166, 167, 168, 169,\n",
       "        170, 171, 172, 173, 174, 175, 176, 177, 178, 179, 180, 181, 182, 183,\n",
       "        184, 185, 186, 187, 188, 189, 190, 191, 192, 193, 194, 195, 196, 197,\n",
       "        198, 199, 200, 201, 202, 203, 204, 205, 206, 207, 208, 209, 210, 211,\n",
       "        212, 213, 214, 215, 216, 217, 218, 219, 220, 221, 222, 223, 224, 225,\n",
       "        226, 227, 228, 229, 230, 231, 232, 233, 234, 235, 236, 237, 238, 239,\n",
       "        240, 241, 242, 243, 244, 245, 246, 247, 248, 249, 250, 251, 252, 253,\n",
       "        254, 255, 256, 257, 258, 259, 260, 261, 262, 263, 264, 265, 266, 267,\n",
       "        268, 269, 270, 271, 272, 273, 274, 275, 276, 277, 278, 279, 280, 281,\n",
       "        282, 283, 284, 285, 286, 287, 288, 289, 290, 291, 292, 293, 294, 295,\n",
       "        296, 297, 298, 299, 300, 301, 302, 303, 304, 305, 306, 307, 308, 309,\n",
       "        310, 311, 312, 313, 314, 315, 316, 317, 318, 319, 320, 321, 322, 323,\n",
       "        324, 325, 326, 327, 328, 329, 330, 331, 332, 333, 334, 335, 336, 337,\n",
       "        338, 339, 340, 341, 342, 343, 344, 345, 346, 347, 348, 349, 350, 351,\n",
       "        352, 353, 354, 355, 356, 357, 358, 359, 360, 361, 362, 363, 364, 365,\n",
       "        366, 367, 368, 369, 370, 371, 372, 373, 374, 375, 376, 377, 378, 379,\n",
       "        380, 381, 382, 383, 384, 385, 386, 387, 388, 389, 390, 391, 392, 393,\n",
       "        394, 395, 396, 397, 398, 399, 400, 401, 402, 403, 404, 405, 406, 407,\n",
       "        408, 409, 410, 411, 412, 413, 414, 415, 416, 417, 418, 419, 420, 421,\n",
       "        422, 423, 424, 425, 426, 427, 428, 429, 430, 431, 432, 433, 434, 435,\n",
       "        436, 437, 438, 439, 440, 441, 442, 443, 444, 445, 446, 447, 448, 449,\n",
       "        450, 451, 452, 453, 454, 455, 456, 457, 458, 459, 460, 461, 462, 463,\n",
       "        464, 465, 466, 467, 468, 469, 470, 471, 472, 473, 474, 475, 476, 477,\n",
       "        478, 479, 480, 481, 482, 483, 484, 485, 486, 487, 488, 489, 490, 491,\n",
       "        492, 493, 494, 495, 496, 497, 498, 499, 500, 501, 502, 503, 504, 505,\n",
       "        506, 507, 508, 509, 510, 511, 512, 513])"
      ]
     },
     "execution_count": 51,
     "metadata": {},
     "output_type": "execute_result"
    }
   ],
   "source": [
    "position_ids"
   ]
  },
  {
   "cell_type": "code",
   "execution_count": 52,
   "metadata": {},
   "outputs": [
    {
     "name": "stdout",
     "output_type": "stream",
     "text": [
      "PyramidionsConfig {\n",
      "  \"attention_probs_dropout_prob\": 0.1,\n",
      "  \"bos_token_id\": 0,\n",
      "  \"classifier_dropout\": null,\n",
      "  \"eos_token_id\": 2,\n",
      "  \"hidden_act\": \"gelu\",\n",
      "  \"hidden_dropout_prob\": 0.1,\n",
      "  \"hidden_size\": 768,\n",
      "  \"initializer_range\": 0.02,\n",
      "  \"intermediate_size\": 3072,\n",
      "  \"layer_norm_eps\": 1e-12,\n",
      "  \"max_position_embeddings\": 514,\n",
      "  \"model_type\": \"pyramidions\",\n",
      "  \"num_attention_heads\": 12,\n",
      "  \"num_hidden_layers\": 9,\n",
      "  \"pad_token_id\": 1,\n",
      "  \"position_embedding_type\": \"absolute\",\n",
      "  \"transformers_version\": \"4.19.0.dev0\",\n",
      "  \"type_vocab_size\": 1,\n",
      "  \"use_cache\": true,\n",
      "  \"vocab_size\": 30522\n",
      "}\n",
      "\n"
     ]
    },
    {
     "data": {
      "text/plain": [
       "Embedding(50265, 768)"
      ]
     },
     "execution_count": 52,
     "metadata": {},
     "output_type": "execute_result"
    }
   ],
   "source": [
    "config = PyramidionsConfig()\n",
    "config.update({\"num_hidden_layers\": 9, \"max_position_embeddings\": 514, \"type_vocab_size\": 2, \"type_vocab_size\": 1})\n",
    "print(config)\n",
    "model = PyramidionsForSequenceClassification(config)\n",
    "\n",
    "model.resize_token_embeddings(len(tokenizer))"
   ]
  },
  {
   "cell_type": "code",
   "execution_count": 53,
   "metadata": {},
   "outputs": [
    {
     "data": {
      "text/plain": [
       "SequenceClassifierOutput(loss=None, logits=tensor([[ 0.1202, -0.4388]], grad_fn=<AddmmBackward0>), hidden_states=None, attentions=None)"
      ]
     },
     "execution_count": 53,
     "metadata": {},
     "output_type": "execute_result"
    }
   ],
   "source": [
    "outputs = model(**tokenizer(\"Hallo\", padding=\"max_length\", return_tensors=\"pt\"))\n",
    "outputs"
   ]
  },
  {
   "cell_type": "code",
   "execution_count": 54,
   "metadata": {},
   "outputs": [
    {
     "name": "stderr",
     "output_type": "stream",
     "text": [
      "loading configuration file https://huggingface.co/roberta-base/resolve/main/config.json from cache at /Users/lennartkeller/.cache/huggingface/transformers/733bade19e5f0ce98e6531021dd5180994bb2f7b8bd7e80c7968805834ba351e.35205c6cfc956461d8515139f0f8dd5d207a2f336c0c3a83b4bc8dca3518e37b\n",
      "Model config RobertaConfig {\n",
      "  \"architectures\": [\n",
      "    \"RobertaForMaskedLM\"\n",
      "  ],\n",
      "  \"attention_probs_dropout_prob\": 0.1,\n",
      "  \"bos_token_id\": 0,\n",
      "  \"classifier_dropout\": null,\n",
      "  \"eos_token_id\": 2,\n",
      "  \"hidden_act\": \"gelu\",\n",
      "  \"hidden_dropout_prob\": 0.1,\n",
      "  \"hidden_size\": 768,\n",
      "  \"initializer_range\": 0.02,\n",
      "  \"intermediate_size\": 3072,\n",
      "  \"layer_norm_eps\": 1e-05,\n",
      "  \"max_position_embeddings\": 514,\n",
      "  \"model_type\": \"roberta\",\n",
      "  \"num_attention_heads\": 12,\n",
      "  \"num_hidden_layers\": 12,\n",
      "  \"pad_token_id\": 1,\n",
      "  \"position_embedding_type\": \"absolute\",\n",
      "  \"transformers_version\": \"4.19.0.dev0\",\n",
      "  \"type_vocab_size\": 1,\n",
      "  \"use_cache\": true,\n",
      "  \"vocab_size\": 50265\n",
      "}\n",
      "\n",
      "loading weights file https://huggingface.co/roberta-base/resolve/main/pytorch_model.bin from cache at /Users/lennartkeller/.cache/huggingface/transformers/51ba668f7ff34e7cdfa9561e8361747738113878850a7d717dbc69de8683aaad.c7efaa30a0d80b2958b876969faa180e485944a849deee4ad482332de65365a7\n",
      "Some weights of the model checkpoint at roberta-base were not used when initializing RobertaModel: ['lm_head.decoder.weight', 'lm_head.layer_norm.weight', 'lm_head.dense.bias', 'lm_head.dense.weight', 'lm_head.layer_norm.bias', 'lm_head.bias']\n",
      "- This IS expected if you are initializing RobertaModel from the checkpoint of a model trained on another task or with another architecture (e.g. initializing a BertForSequenceClassification model from a BertForPreTraining model).\n",
      "- This IS NOT expected if you are initializing RobertaModel from the checkpoint of a model that you expect to be exactly identical (initializing a BertForSequenceClassification model from a BertForSequenceClassification model).\n",
      "All the weights of RobertaModel were initialized from the model checkpoint at roberta-base.\n",
      "If your task is similar to the task the model of the checkpoint was trained on, you can already use RobertaModel for predictions without further training.\n"
     ]
    }
   ],
   "source": [
    "from transformers import RobertaModel\n",
    "\n",
    "pretrained_model = RobertaModel.from_pretrained(\"roberta-base\")"
   ]
  },
  {
   "cell_type": "code",
   "execution_count": 55,
   "metadata": {},
   "outputs": [],
   "source": [
    "from collections import OrderedDict\n",
    "def rename_roberta_state_dict(state_dict):\n",
    "    return OrderedDict([(f\"pyramidions.{key}\", value) for key, value in state_dict.items()])"
   ]
  },
  {
   "cell_type": "code",
   "execution_count": 56,
   "metadata": {},
   "outputs": [
    {
     "data": {
      "text/plain": [
       "_IncompatibleKeys(missing_keys=['pyramidions.encoder.layer.0.pooler.scorer.0.weight', 'pyramidions.encoder.layer.0.pooler.scorer.0.bias', 'pyramidions.encoder.layer.1.pooler.scorer.0.weight', 'pyramidions.encoder.layer.1.pooler.scorer.0.bias', 'pyramidions.encoder.layer.2.pooler.scorer.0.weight', 'pyramidions.encoder.layer.2.pooler.scorer.0.bias', 'pyramidions.encoder.layer.3.pooler.scorer.0.weight', 'pyramidions.encoder.layer.3.pooler.scorer.0.bias', 'pyramidions.encoder.layer.4.pooler.scorer.0.weight', 'pyramidions.encoder.layer.4.pooler.scorer.0.bias', 'pyramidions.encoder.layer.5.pooler.scorer.0.weight', 'pyramidions.encoder.layer.5.pooler.scorer.0.bias', 'pyramidions.encoder.layer.6.pooler.scorer.0.weight', 'pyramidions.encoder.layer.6.pooler.scorer.0.bias', 'pyramidions.encoder.layer.7.pooler.scorer.0.weight', 'pyramidions.encoder.layer.7.pooler.scorer.0.bias', 'pyramidions.encoder.layer.8.pooler.scorer.0.weight', 'pyramidions.encoder.layer.8.pooler.scorer.0.bias', 'classifier.dense.weight', 'classifier.dense.bias', 'classifier.out_proj.weight', 'classifier.out_proj.bias'], unexpected_keys=['pyramidions.pooler.dense.weight', 'pyramidions.pooler.dense.bias', 'pyramidions.encoder.layer.9.attention.self.query.weight', 'pyramidions.encoder.layer.9.attention.self.query.bias', 'pyramidions.encoder.layer.9.attention.self.key.weight', 'pyramidions.encoder.layer.9.attention.self.key.bias', 'pyramidions.encoder.layer.9.attention.self.value.weight', 'pyramidions.encoder.layer.9.attention.self.value.bias', 'pyramidions.encoder.layer.9.attention.output.dense.weight', 'pyramidions.encoder.layer.9.attention.output.dense.bias', 'pyramidions.encoder.layer.9.attention.output.LayerNorm.weight', 'pyramidions.encoder.layer.9.attention.output.LayerNorm.bias', 'pyramidions.encoder.layer.9.intermediate.dense.weight', 'pyramidions.encoder.layer.9.intermediate.dense.bias', 'pyramidions.encoder.layer.9.output.dense.weight', 'pyramidions.encoder.layer.9.output.dense.bias', 'pyramidions.encoder.layer.9.output.LayerNorm.weight', 'pyramidions.encoder.layer.9.output.LayerNorm.bias', 'pyramidions.encoder.layer.10.attention.self.query.weight', 'pyramidions.encoder.layer.10.attention.self.query.bias', 'pyramidions.encoder.layer.10.attention.self.key.weight', 'pyramidions.encoder.layer.10.attention.self.key.bias', 'pyramidions.encoder.layer.10.attention.self.value.weight', 'pyramidions.encoder.layer.10.attention.self.value.bias', 'pyramidions.encoder.layer.10.attention.output.dense.weight', 'pyramidions.encoder.layer.10.attention.output.dense.bias', 'pyramidions.encoder.layer.10.attention.output.LayerNorm.weight', 'pyramidions.encoder.layer.10.attention.output.LayerNorm.bias', 'pyramidions.encoder.layer.10.intermediate.dense.weight', 'pyramidions.encoder.layer.10.intermediate.dense.bias', 'pyramidions.encoder.layer.10.output.dense.weight', 'pyramidions.encoder.layer.10.output.dense.bias', 'pyramidions.encoder.layer.10.output.LayerNorm.weight', 'pyramidions.encoder.layer.10.output.LayerNorm.bias', 'pyramidions.encoder.layer.11.attention.self.query.weight', 'pyramidions.encoder.layer.11.attention.self.query.bias', 'pyramidions.encoder.layer.11.attention.self.key.weight', 'pyramidions.encoder.layer.11.attention.self.key.bias', 'pyramidions.encoder.layer.11.attention.self.value.weight', 'pyramidions.encoder.layer.11.attention.self.value.bias', 'pyramidions.encoder.layer.11.attention.output.dense.weight', 'pyramidions.encoder.layer.11.attention.output.dense.bias', 'pyramidions.encoder.layer.11.attention.output.LayerNorm.weight', 'pyramidions.encoder.layer.11.attention.output.LayerNorm.bias', 'pyramidions.encoder.layer.11.intermediate.dense.weight', 'pyramidions.encoder.layer.11.intermediate.dense.bias', 'pyramidions.encoder.layer.11.output.dense.weight', 'pyramidions.encoder.layer.11.output.dense.bias', 'pyramidions.encoder.layer.11.output.LayerNorm.weight', 'pyramidions.encoder.layer.11.output.LayerNorm.bias'])"
      ]
     },
     "execution_count": 56,
     "metadata": {},
     "output_type": "execute_result"
    }
   ],
   "source": [
    "model.load_state_dict(rename_roberta_state_dict(pretrained_model.state_dict()), strict=False)"
   ]
  },
  {
   "cell_type": "code",
   "execution_count": 57,
   "metadata": {},
   "outputs": [
    {
     "name": "stderr",
     "output_type": "stream",
     "text": [
      "Reusing dataset imdb (/Users/lennartkeller/.cache/huggingface/datasets/imdb/plain_text/1.0.0/2fdd8b9bcadd6e7055e742a706876ba43f19faee861df134affd7a3f60fc38a1)\n",
      "100%|██████████| 3/3 [00:00<00:00, 775.43it/s]\n"
     ]
    }
   ],
   "source": [
    "from datasets import load_dataset\n",
    "\n",
    "dataset = load_dataset(\"imdb\")"
   ]
  },
  {
   "cell_type": "code",
   "execution_count": 58,
   "metadata": {},
   "outputs": [
    {
     "data": {
      "text/plain": [
       "DatasetDict({\n",
       "    train: Dataset({\n",
       "        features: ['text', 'label'],\n",
       "        num_rows: 25000\n",
       "    })\n",
       "    test: Dataset({\n",
       "        features: ['text', 'label'],\n",
       "        num_rows: 25000\n",
       "    })\n",
       "    unsupervised: Dataset({\n",
       "        features: ['text', 'label'],\n",
       "        num_rows: 50000\n",
       "    })\n",
       "})"
      ]
     },
     "execution_count": 58,
     "metadata": {},
     "output_type": "execute_result"
    }
   ],
   "source": [
    "dataset"
   ]
  },
  {
   "cell_type": "code",
   "execution_count": 59,
   "metadata": {},
   "outputs": [
    {
     "name": "stderr",
     "output_type": "stream",
     "text": [
      "Loading cached processed dataset at /Users/lennartkeller/.cache/huggingface/datasets/imdb/plain_text/1.0.0/2fdd8b9bcadd6e7055e742a706876ba43f19faee861df134affd7a3f60fc38a1/cache-54aedbefd2676f9d.arrow\n",
      "Loading cached processed dataset at /Users/lennartkeller/.cache/huggingface/datasets/imdb/plain_text/1.0.0/2fdd8b9bcadd6e7055e742a706876ba43f19faee861df134affd7a3f60fc38a1/cache-837877adeb715f8d.arrow\n",
      "Loading cached processed dataset at /Users/lennartkeller/.cache/huggingface/datasets/imdb/plain_text/1.0.0/2fdd8b9bcadd6e7055e742a706876ba43f19faee861df134affd7a3f60fc38a1/cache-7a2499041269e44e.arrow\n"
     ]
    }
   ],
   "source": [
    "dataset = dataset.map(lambda row: tokenizer(row[\"text\"], truncation=True))"
   ]
  },
  {
   "cell_type": "code",
   "execution_count": 60,
   "metadata": {},
   "outputs": [
    {
     "data": {
      "text/plain": [
       "DatasetDict({\n",
       "    train: Dataset({\n",
       "        features: ['text', 'label', 'input_ids', 'attention_mask'],\n",
       "        num_rows: 3562\n",
       "    })\n",
       "    test: Dataset({\n",
       "        features: ['text', 'label', 'input_ids', 'attention_mask'],\n",
       "        num_rows: 188\n",
       "    })\n",
       "})"
      ]
     },
     "execution_count": 60,
     "metadata": {},
     "output_type": "execute_result"
    }
   ],
   "source": [
    "dataset.set_format(\"torch\")\n",
    "dataset.rename_column(\"label\", \"labels\")\n",
    "dataset.remove_columns(\"text\")\n",
    "\n",
    "dataset = dataset[\"train\"].train_test_split(test_size=0.15, seed=42)[\"test\"]\n",
    "dataset = dataset.train_test_split(test_size=0.05, seed=42)\n",
    "dataset"
   ]
  },
  {
   "cell_type": "code",
   "execution_count": 61,
   "metadata": {},
   "outputs": [],
   "source": [
    "\n",
    "def compute_metrics(p: EvalPrediction):\n",
    "    preds = p.predictions[0] if isinstance(p.predictions, tuple) else p.predictions\n",
    "    preds = np.argmax(preds, axis=1)\n",
    "    return {\"accuracy\": (preds == p.label_ids).astype(np.float32).mean().item()}"
   ]
  },
  {
   "cell_type": "code",
   "execution_count": null,
   "metadata": {},
   "outputs": [
    {
     "name": "stderr",
     "output_type": "stream",
     "text": [
      "PyTorch: setting up devices\n",
      "The default value for the training argument `--report_to` will change in v5 (from all installed integrations to none). In v5, you will need to use `--report_to all` to get the same behavior as now. You should start updating your code and make this info disappear :-).\n",
      " 50%|█████     | 149/297 [4:04:04<4:02:25, 98.28s/it]\n"
     ]
    }
   ],
   "source": [
    "from transformers import Trainer, TrainingArguments, DataCollatorWithPadding\n",
    "# I think that the trainer is not using the right padding strategy....\n",
    "\n",
    "training_args = TrainingArguments(\n",
    "    num_train_epochs=1,\n",
    "    output_dir=\"pyramid_classif\",\n",
    "    per_device_train_batch_size=8,\n",
    "    learning_rate=3e-5,\n",
    "    logging_strategy=\"steps\",\n",
    "    logging_steps=1,\n",
    "    evaluation_strategy=\"steps\",\n",
    "    eval_steps=10\n",
    ")\n",
    "trainer = Trainer(\n",
    "    model=model,\n",
    "    tokenizer=tokenizer,\n",
    "    args=training_args,\n",
    "    data_collator=DataCollatorWithPadding(padding=\"max_length\", tokenizer=tokenizer),\n",
    "    train_dataset=dataset[\"train\"],\n",
    "    eval_dataset=dataset[\"test\"],\n",
    "    compute_metrics=compute_metrics\n",
    ")\n"
   ]
  },
  {
   "cell_type": "code",
   "execution_count": null,
   "metadata": {},
   "outputs": [
    {
     "data": {
      "text/plain": [
       "2"
      ]
     },
     "execution_count": 66,
     "metadata": {},
     "output_type": "execute_result"
    }
   ],
   "source": [
    "model.config.num_labels"
   ]
  },
  {
   "cell_type": "code",
   "execution_count": 67,
   "metadata": {},
   "outputs": [
    {
     "name": "stderr",
     "output_type": "stream",
     "text": [
      "The following columns in the training set  don't have a corresponding argument in `PyramidionsForSequenceClassification.forward` and have been ignored: text. If text are not expected by `PyramidionsForSequenceClassification.forward`,  you can safely ignore this message.\n",
      "/Users/lennartkeller/Uni/transformers/src/transformers/optimization.py:306: FutureWarning: This implementation of AdamW is deprecated and will be removed in a future version. Use the PyTorch implementation torch.optim.AdamW instead, or set `no_deprecation_warning=True` to disable this warning\n",
      "  warnings.warn(\n",
      "***** Running training *****\n",
      "  Num examples = 3562\n",
      "  Num Epochs = 1\n",
      "  Instantaneous batch size per device = 8\n",
      "  Total train batch size (w. parallel, distributed & accumulation) = 8\n",
      "  Gradient Accumulation steps = 1\n",
      "  Total optimization steps = 446\n",
      "  0%|          | 1/446 [00:03<22:36,  3.05s/it]\n",
      "  0%|          | 1/446 [00:03<22:36,  3.05s/it] "
     ]
    },
    {
     "name": "stdout",
     "output_type": "stream",
     "text": [
      "{'loss': 0.6352, 'learning_rate': 2.9932735426008968e-05, 'epoch': 0.0}\n"
     ]
    },
    {
     "name": "stderr",
     "output_type": "stream",
     "text": [
      "  0%|          | 2/446 [00:04<16:51,  2.28s/it]\n",
      "  0%|          | 2/446 [00:04<16:51,  2.28s/it]   "
     ]
    },
    {
     "name": "stdout",
     "output_type": "stream",
     "text": [
      "{'loss': 0.6517, 'learning_rate': 2.9865470852017938e-05, 'epoch': 0.0}\n"
     ]
    },
    {
     "name": "stderr",
     "output_type": "stream",
     "text": [
      "  1%|          | 3/446 [00:06<13:59,  1.89s/it]\n",
      "  1%|          | 3/446 [00:06<13:59,  1.89s/it]   "
     ]
    },
    {
     "name": "stdout",
     "output_type": "stream",
     "text": [
      "{'loss': 0.7654, 'learning_rate': 2.9798206278026905e-05, 'epoch': 0.01}\n"
     ]
    },
    {
     "name": "stderr",
     "output_type": "stream",
     "text": [
      " 17%|█▋        | 76/446 [3:58:27<19:20:52, 188.25s/it]\n"
     ]
    },
    {
     "ename": "KeyboardInterrupt",
     "evalue": "",
     "output_type": "error",
     "traceback": [
      "\u001b[0;31m---------------------------------------------------------------------------\u001b[0m",
      "\u001b[0;31mKeyboardInterrupt\u001b[0m                         Traceback (most recent call last)",
      "\u001b[1;32m/Users/lennartkeller/Uni/transformers/src/transformers/models/pyramidions/test_bench.ipynb Cell 36'\u001b[0m in \u001b[0;36m<cell line: 1>\u001b[0;34m()\u001b[0m\n\u001b[0;32m----> <a href='vscode-notebook-cell:/Users/lennartkeller/Uni/transformers/src/transformers/models/pyramidions/test_bench.ipynb#ch0000029?line=0'>1</a>\u001b[0m trainer\u001b[39m.\u001b[39;49mtrain()\n",
      "File \u001b[0;32m~/Uni/transformers/src/transformers/trainer.py:1429\u001b[0m, in \u001b[0;36mTrainer.train\u001b[0;34m(self, resume_from_checkpoint, trial, ignore_keys_for_eval, **kwargs)\u001b[0m\n\u001b[1;32m   <a href='file:///Users/lennartkeller/Uni/transformers/src/transformers/trainer.py?line=1426'>1427</a>\u001b[0m         tr_loss_step \u001b[39m=\u001b[39m \u001b[39mself\u001b[39m\u001b[39m.\u001b[39mtraining_step(model, inputs)\n\u001b[1;32m   <a href='file:///Users/lennartkeller/Uni/transformers/src/transformers/trainer.py?line=1427'>1428</a>\u001b[0m \u001b[39melse\u001b[39;00m:\n\u001b[0;32m-> <a href='file:///Users/lennartkeller/Uni/transformers/src/transformers/trainer.py?line=1428'>1429</a>\u001b[0m     tr_loss_step \u001b[39m=\u001b[39m \u001b[39mself\u001b[39;49m\u001b[39m.\u001b[39;49mtraining_step(model, inputs)\n\u001b[1;32m   <a href='file:///Users/lennartkeller/Uni/transformers/src/transformers/trainer.py?line=1430'>1431</a>\u001b[0m \u001b[39mif\u001b[39;00m (\n\u001b[1;32m   <a href='file:///Users/lennartkeller/Uni/transformers/src/transformers/trainer.py?line=1431'>1432</a>\u001b[0m     args\u001b[39m.\u001b[39mlogging_nan_inf_filter\n\u001b[1;32m   <a href='file:///Users/lennartkeller/Uni/transformers/src/transformers/trainer.py?line=1432'>1433</a>\u001b[0m     \u001b[39mand\u001b[39;00m \u001b[39mnot\u001b[39;00m is_torch_tpu_available()\n\u001b[1;32m   <a href='file:///Users/lennartkeller/Uni/transformers/src/transformers/trainer.py?line=1433'>1434</a>\u001b[0m     \u001b[39mand\u001b[39;00m (torch\u001b[39m.\u001b[39misnan(tr_loss_step) \u001b[39mor\u001b[39;00m torch\u001b[39m.\u001b[39misinf(tr_loss_step))\n\u001b[1;32m   <a href='file:///Users/lennartkeller/Uni/transformers/src/transformers/trainer.py?line=1434'>1435</a>\u001b[0m ):\n\u001b[1;32m   <a href='file:///Users/lennartkeller/Uni/transformers/src/transformers/trainer.py?line=1435'>1436</a>\u001b[0m     \u001b[39m# if loss is nan or inf simply add the average of previous logged losses\u001b[39;00m\n\u001b[1;32m   <a href='file:///Users/lennartkeller/Uni/transformers/src/transformers/trainer.py?line=1436'>1437</a>\u001b[0m     tr_loss \u001b[39m+\u001b[39m\u001b[39m=\u001b[39m tr_loss \u001b[39m/\u001b[39m (\u001b[39m1\u001b[39m \u001b[39m+\u001b[39m \u001b[39mself\u001b[39m\u001b[39m.\u001b[39mstate\u001b[39m.\u001b[39mglobal_step \u001b[39m-\u001b[39m \u001b[39mself\u001b[39m\u001b[39m.\u001b[39m_globalstep_last_logged)\n",
      "File \u001b[0;32m~/Uni/transformers/src/transformers/trainer.py:2058\u001b[0m, in \u001b[0;36mTrainer.training_step\u001b[0;34m(self, model, inputs)\u001b[0m\n\u001b[1;32m   <a href='file:///Users/lennartkeller/Uni/transformers/src/transformers/trainer.py?line=2054'>2055</a>\u001b[0m     \u001b[39mreturn\u001b[39;00m loss_mb\u001b[39m.\u001b[39mreduce_mean()\u001b[39m.\u001b[39mdetach()\u001b[39m.\u001b[39mto(\u001b[39mself\u001b[39m\u001b[39m.\u001b[39margs\u001b[39m.\u001b[39mdevice)\n\u001b[1;32m   <a href='file:///Users/lennartkeller/Uni/transformers/src/transformers/trainer.py?line=2056'>2057</a>\u001b[0m \u001b[39mwith\u001b[39;00m \u001b[39mself\u001b[39m\u001b[39m.\u001b[39mautocast_smart_context_manager():\n\u001b[0;32m-> <a href='file:///Users/lennartkeller/Uni/transformers/src/transformers/trainer.py?line=2057'>2058</a>\u001b[0m     loss \u001b[39m=\u001b[39m \u001b[39mself\u001b[39;49m\u001b[39m.\u001b[39;49mcompute_loss(model, inputs)\n\u001b[1;32m   <a href='file:///Users/lennartkeller/Uni/transformers/src/transformers/trainer.py?line=2059'>2060</a>\u001b[0m \u001b[39mif\u001b[39;00m \u001b[39mself\u001b[39m\u001b[39m.\u001b[39margs\u001b[39m.\u001b[39mn_gpu \u001b[39m>\u001b[39m \u001b[39m1\u001b[39m:\n\u001b[1;32m   <a href='file:///Users/lennartkeller/Uni/transformers/src/transformers/trainer.py?line=2060'>2061</a>\u001b[0m     loss \u001b[39m=\u001b[39m loss\u001b[39m.\u001b[39mmean()  \u001b[39m# mean() to average on multi-gpu parallel training\u001b[39;00m\n",
      "File \u001b[0;32m~/Uni/transformers/src/transformers/trainer.py:2090\u001b[0m, in \u001b[0;36mTrainer.compute_loss\u001b[0;34m(self, model, inputs, return_outputs)\u001b[0m\n\u001b[1;32m   <a href='file:///Users/lennartkeller/Uni/transformers/src/transformers/trainer.py?line=2087'>2088</a>\u001b[0m \u001b[39melse\u001b[39;00m:\n\u001b[1;32m   <a href='file:///Users/lennartkeller/Uni/transformers/src/transformers/trainer.py?line=2088'>2089</a>\u001b[0m     labels \u001b[39m=\u001b[39m \u001b[39mNone\u001b[39;00m\n\u001b[0;32m-> <a href='file:///Users/lennartkeller/Uni/transformers/src/transformers/trainer.py?line=2089'>2090</a>\u001b[0m outputs \u001b[39m=\u001b[39m model(\u001b[39m*\u001b[39;49m\u001b[39m*\u001b[39;49minputs)\n\u001b[1;32m   <a href='file:///Users/lennartkeller/Uni/transformers/src/transformers/trainer.py?line=2090'>2091</a>\u001b[0m \u001b[39m# Save past state if it exists\u001b[39;00m\n\u001b[1;32m   <a href='file:///Users/lennartkeller/Uni/transformers/src/transformers/trainer.py?line=2091'>2092</a>\u001b[0m \u001b[39m# TODO: this needs to be fixed and made cleaner later.\u001b[39;00m\n\u001b[1;32m   <a href='file:///Users/lennartkeller/Uni/transformers/src/transformers/trainer.py?line=2092'>2093</a>\u001b[0m \u001b[39mif\u001b[39;00m \u001b[39mself\u001b[39m\u001b[39m.\u001b[39margs\u001b[39m.\u001b[39mpast_index \u001b[39m>\u001b[39m\u001b[39m=\u001b[39m \u001b[39m0\u001b[39m:\n",
      "File \u001b[0;32m/opt/homebrew/Caskroom/miniforge/base/envs/transformers_dev/lib/python3.9/site-packages/torch/nn/modules/module.py:1110\u001b[0m, in \u001b[0;36mModule._call_impl\u001b[0;34m(self, *input, **kwargs)\u001b[0m\n\u001b[1;32m   <a href='file:///opt/homebrew/Caskroom/miniforge/base/envs/transformers_dev/lib/python3.9/site-packages/torch/nn/modules/module.py?line=1105'>1106</a>\u001b[0m \u001b[39m# If we don't have any hooks, we want to skip the rest of the logic in\u001b[39;00m\n\u001b[1;32m   <a href='file:///opt/homebrew/Caskroom/miniforge/base/envs/transformers_dev/lib/python3.9/site-packages/torch/nn/modules/module.py?line=1106'>1107</a>\u001b[0m \u001b[39m# this function, and just call forward.\u001b[39;00m\n\u001b[1;32m   <a href='file:///opt/homebrew/Caskroom/miniforge/base/envs/transformers_dev/lib/python3.9/site-packages/torch/nn/modules/module.py?line=1107'>1108</a>\u001b[0m \u001b[39mif\u001b[39;00m \u001b[39mnot\u001b[39;00m (\u001b[39mself\u001b[39m\u001b[39m.\u001b[39m_backward_hooks \u001b[39mor\u001b[39;00m \u001b[39mself\u001b[39m\u001b[39m.\u001b[39m_forward_hooks \u001b[39mor\u001b[39;00m \u001b[39mself\u001b[39m\u001b[39m.\u001b[39m_forward_pre_hooks \u001b[39mor\u001b[39;00m _global_backward_hooks\n\u001b[1;32m   <a href='file:///opt/homebrew/Caskroom/miniforge/base/envs/transformers_dev/lib/python3.9/site-packages/torch/nn/modules/module.py?line=1108'>1109</a>\u001b[0m         \u001b[39mor\u001b[39;00m _global_forward_hooks \u001b[39mor\u001b[39;00m _global_forward_pre_hooks):\n\u001b[0;32m-> <a href='file:///opt/homebrew/Caskroom/miniforge/base/envs/transformers_dev/lib/python3.9/site-packages/torch/nn/modules/module.py?line=1109'>1110</a>\u001b[0m     \u001b[39mreturn\u001b[39;00m forward_call(\u001b[39m*\u001b[39;49m\u001b[39minput\u001b[39;49m, \u001b[39m*\u001b[39;49m\u001b[39m*\u001b[39;49mkwargs)\n\u001b[1;32m   <a href='file:///opt/homebrew/Caskroom/miniforge/base/envs/transformers_dev/lib/python3.9/site-packages/torch/nn/modules/module.py?line=1110'>1111</a>\u001b[0m \u001b[39m# Do not call functions when jit is used\u001b[39;00m\n\u001b[1;32m   <a href='file:///opt/homebrew/Caskroom/miniforge/base/envs/transformers_dev/lib/python3.9/site-packages/torch/nn/modules/module.py?line=1111'>1112</a>\u001b[0m full_backward_hooks, non_full_backward_hooks \u001b[39m=\u001b[39m [], []\n",
      "File \u001b[0;32m~/Uni/transformers/src/transformers/models/pyramidions/modeling_pyramidions.py:1286\u001b[0m, in \u001b[0;36mPyramidionsForSequenceClassification.forward\u001b[0;34m(self, input_ids, attention_mask, token_type_ids, position_ids, head_mask, inputs_embeds, labels, output_attentions, output_hidden_states, return_dict)\u001b[0m\n\u001b[1;32m   <a href='file:///Users/lennartkeller/Uni/transformers/src/transformers/models/pyramidions/modeling_pyramidions.py?line=1277'>1278</a>\u001b[0m \u001b[39mr\u001b[39m\u001b[39m\"\"\"\u001b[39;00m\n\u001b[1;32m   <a href='file:///Users/lennartkeller/Uni/transformers/src/transformers/models/pyramidions/modeling_pyramidions.py?line=1278'>1279</a>\u001b[0m \u001b[39mlabels (`torch.LongTensor` of shape `(batch_size,)`, *optional*):\u001b[39;00m\n\u001b[1;32m   <a href='file:///Users/lennartkeller/Uni/transformers/src/transformers/models/pyramidions/modeling_pyramidions.py?line=1279'>1280</a>\u001b[0m \u001b[39m    Labels for computing the sequence classification/regression loss. Indices should be in `[0, ...,\u001b[39;00m\n\u001b[1;32m   <a href='file:///Users/lennartkeller/Uni/transformers/src/transformers/models/pyramidions/modeling_pyramidions.py?line=1280'>1281</a>\u001b[0m \u001b[39m    config.num_labels - 1]`. If `config.num_labels == 1` a regression loss is computed (Mean-Square loss), If\u001b[39;00m\n\u001b[1;32m   <a href='file:///Users/lennartkeller/Uni/transformers/src/transformers/models/pyramidions/modeling_pyramidions.py?line=1281'>1282</a>\u001b[0m \u001b[39m    `config.num_labels > 1` a classification loss is computed (Cross-Entropy).\u001b[39;00m\n\u001b[1;32m   <a href='file:///Users/lennartkeller/Uni/transformers/src/transformers/models/pyramidions/modeling_pyramidions.py?line=1282'>1283</a>\u001b[0m \u001b[39m\"\"\"\u001b[39;00m\n\u001b[1;32m   <a href='file:///Users/lennartkeller/Uni/transformers/src/transformers/models/pyramidions/modeling_pyramidions.py?line=1283'>1284</a>\u001b[0m return_dict \u001b[39m=\u001b[39m return_dict \u001b[39mif\u001b[39;00m return_dict \u001b[39mis\u001b[39;00m \u001b[39mnot\u001b[39;00m \u001b[39mNone\u001b[39;00m \u001b[39melse\u001b[39;00m \u001b[39mself\u001b[39m\u001b[39m.\u001b[39mconfig\u001b[39m.\u001b[39muse_return_dict\n\u001b[0;32m-> <a href='file:///Users/lennartkeller/Uni/transformers/src/transformers/models/pyramidions/modeling_pyramidions.py?line=1285'>1286</a>\u001b[0m outputs \u001b[39m=\u001b[39m \u001b[39mself\u001b[39;49m\u001b[39m.\u001b[39;49mpyramidions(\n\u001b[1;32m   <a href='file:///Users/lennartkeller/Uni/transformers/src/transformers/models/pyramidions/modeling_pyramidions.py?line=1286'>1287</a>\u001b[0m     input_ids,\n\u001b[1;32m   <a href='file:///Users/lennartkeller/Uni/transformers/src/transformers/models/pyramidions/modeling_pyramidions.py?line=1287'>1288</a>\u001b[0m     attention_mask\u001b[39m=\u001b[39;49mattention_mask,\n\u001b[1;32m   <a href='file:///Users/lennartkeller/Uni/transformers/src/transformers/models/pyramidions/modeling_pyramidions.py?line=1288'>1289</a>\u001b[0m     token_type_ids\u001b[39m=\u001b[39;49mtoken_type_ids,\n\u001b[1;32m   <a href='file:///Users/lennartkeller/Uni/transformers/src/transformers/models/pyramidions/modeling_pyramidions.py?line=1289'>1290</a>\u001b[0m     position_ids\u001b[39m=\u001b[39;49mposition_ids,\n\u001b[1;32m   <a href='file:///Users/lennartkeller/Uni/transformers/src/transformers/models/pyramidions/modeling_pyramidions.py?line=1290'>1291</a>\u001b[0m     head_mask\u001b[39m=\u001b[39;49mhead_mask,\n\u001b[1;32m   <a href='file:///Users/lennartkeller/Uni/transformers/src/transformers/models/pyramidions/modeling_pyramidions.py?line=1291'>1292</a>\u001b[0m     inputs_embeds\u001b[39m=\u001b[39;49minputs_embeds,\n\u001b[1;32m   <a href='file:///Users/lennartkeller/Uni/transformers/src/transformers/models/pyramidions/modeling_pyramidions.py?line=1292'>1293</a>\u001b[0m     output_attentions\u001b[39m=\u001b[39;49moutput_attentions,\n\u001b[1;32m   <a href='file:///Users/lennartkeller/Uni/transformers/src/transformers/models/pyramidions/modeling_pyramidions.py?line=1293'>1294</a>\u001b[0m     output_hidden_states\u001b[39m=\u001b[39;49moutput_hidden_states,\n\u001b[1;32m   <a href='file:///Users/lennartkeller/Uni/transformers/src/transformers/models/pyramidions/modeling_pyramidions.py?line=1294'>1295</a>\u001b[0m     return_dict\u001b[39m=\u001b[39;49mreturn_dict,\n\u001b[1;32m   <a href='file:///Users/lennartkeller/Uni/transformers/src/transformers/models/pyramidions/modeling_pyramidions.py?line=1295'>1296</a>\u001b[0m )\n\u001b[1;32m   <a href='file:///Users/lennartkeller/Uni/transformers/src/transformers/models/pyramidions/modeling_pyramidions.py?line=1296'>1297</a>\u001b[0m sequence_output \u001b[39m=\u001b[39m outputs[\u001b[39m0\u001b[39m]\n\u001b[1;32m   <a href='file:///Users/lennartkeller/Uni/transformers/src/transformers/models/pyramidions/modeling_pyramidions.py?line=1297'>1298</a>\u001b[0m logits \u001b[39m=\u001b[39m \u001b[39mself\u001b[39m\u001b[39m.\u001b[39mclassifier(sequence_output)\n",
      "File \u001b[0;32m/opt/homebrew/Caskroom/miniforge/base/envs/transformers_dev/lib/python3.9/site-packages/torch/nn/modules/module.py:1110\u001b[0m, in \u001b[0;36mModule._call_impl\u001b[0;34m(self, *input, **kwargs)\u001b[0m\n\u001b[1;32m   <a href='file:///opt/homebrew/Caskroom/miniforge/base/envs/transformers_dev/lib/python3.9/site-packages/torch/nn/modules/module.py?line=1105'>1106</a>\u001b[0m \u001b[39m# If we don't have any hooks, we want to skip the rest of the logic in\u001b[39;00m\n\u001b[1;32m   <a href='file:///opt/homebrew/Caskroom/miniforge/base/envs/transformers_dev/lib/python3.9/site-packages/torch/nn/modules/module.py?line=1106'>1107</a>\u001b[0m \u001b[39m# this function, and just call forward.\u001b[39;00m\n\u001b[1;32m   <a href='file:///opt/homebrew/Caskroom/miniforge/base/envs/transformers_dev/lib/python3.9/site-packages/torch/nn/modules/module.py?line=1107'>1108</a>\u001b[0m \u001b[39mif\u001b[39;00m \u001b[39mnot\u001b[39;00m (\u001b[39mself\u001b[39m\u001b[39m.\u001b[39m_backward_hooks \u001b[39mor\u001b[39;00m \u001b[39mself\u001b[39m\u001b[39m.\u001b[39m_forward_hooks \u001b[39mor\u001b[39;00m \u001b[39mself\u001b[39m\u001b[39m.\u001b[39m_forward_pre_hooks \u001b[39mor\u001b[39;00m _global_backward_hooks\n\u001b[1;32m   <a href='file:///opt/homebrew/Caskroom/miniforge/base/envs/transformers_dev/lib/python3.9/site-packages/torch/nn/modules/module.py?line=1108'>1109</a>\u001b[0m         \u001b[39mor\u001b[39;00m _global_forward_hooks \u001b[39mor\u001b[39;00m _global_forward_pre_hooks):\n\u001b[0;32m-> <a href='file:///opt/homebrew/Caskroom/miniforge/base/envs/transformers_dev/lib/python3.9/site-packages/torch/nn/modules/module.py?line=1109'>1110</a>\u001b[0m     \u001b[39mreturn\u001b[39;00m forward_call(\u001b[39m*\u001b[39;49m\u001b[39minput\u001b[39;49m, \u001b[39m*\u001b[39;49m\u001b[39m*\u001b[39;49mkwargs)\n\u001b[1;32m   <a href='file:///opt/homebrew/Caskroom/miniforge/base/envs/transformers_dev/lib/python3.9/site-packages/torch/nn/modules/module.py?line=1110'>1111</a>\u001b[0m \u001b[39m# Do not call functions when jit is used\u001b[39;00m\n\u001b[1;32m   <a href='file:///opt/homebrew/Caskroom/miniforge/base/envs/transformers_dev/lib/python3.9/site-packages/torch/nn/modules/module.py?line=1111'>1112</a>\u001b[0m full_backward_hooks, non_full_backward_hooks \u001b[39m=\u001b[39m [], []\n",
      "File \u001b[0;32m~/Uni/transformers/src/transformers/models/pyramidions/modeling_pyramidions.py:924\u001b[0m, in \u001b[0;36mPyramidionsModel.forward\u001b[0;34m(self, input_ids, attention_mask, token_type_ids, position_ids, head_mask, inputs_embeds, encoder_hidden_states, encoder_attention_mask, past_key_values, use_cache, output_attentions, output_hidden_states, return_dict)\u001b[0m\n\u001b[1;32m    <a href='file:///Users/lennartkeller/Uni/transformers/src/transformers/models/pyramidions/modeling_pyramidions.py?line=914'>915</a>\u001b[0m head_mask \u001b[39m=\u001b[39m \u001b[39mself\u001b[39m\u001b[39m.\u001b[39mget_head_mask(head_mask, \u001b[39mself\u001b[39m\u001b[39m.\u001b[39mconfig\u001b[39m.\u001b[39mnum_hidden_layers)\n\u001b[1;32m    <a href='file:///Users/lennartkeller/Uni/transformers/src/transformers/models/pyramidions/modeling_pyramidions.py?line=916'>917</a>\u001b[0m embedding_output \u001b[39m=\u001b[39m \u001b[39mself\u001b[39m\u001b[39m.\u001b[39membeddings(\n\u001b[1;32m    <a href='file:///Users/lennartkeller/Uni/transformers/src/transformers/models/pyramidions/modeling_pyramidions.py?line=917'>918</a>\u001b[0m     input_ids\u001b[39m=\u001b[39minput_ids,\n\u001b[1;32m    <a href='file:///Users/lennartkeller/Uni/transformers/src/transformers/models/pyramidions/modeling_pyramidions.py?line=918'>919</a>\u001b[0m     position_ids\u001b[39m=\u001b[39mposition_ids,\n\u001b[0;32m   (...)\u001b[0m\n\u001b[1;32m    <a href='file:///Users/lennartkeller/Uni/transformers/src/transformers/models/pyramidions/modeling_pyramidions.py?line=921'>922</a>\u001b[0m     past_key_values_length\u001b[39m=\u001b[39mpast_key_values_length,\n\u001b[1;32m    <a href='file:///Users/lennartkeller/Uni/transformers/src/transformers/models/pyramidions/modeling_pyramidions.py?line=922'>923</a>\u001b[0m )\n\u001b[0;32m--> <a href='file:///Users/lennartkeller/Uni/transformers/src/transformers/models/pyramidions/modeling_pyramidions.py?line=923'>924</a>\u001b[0m encoder_outputs \u001b[39m=\u001b[39m \u001b[39mself\u001b[39;49m\u001b[39m.\u001b[39;49mencoder(\n\u001b[1;32m    <a href='file:///Users/lennartkeller/Uni/transformers/src/transformers/models/pyramidions/modeling_pyramidions.py?line=924'>925</a>\u001b[0m     embedding_output,\n\u001b[1;32m    <a href='file:///Users/lennartkeller/Uni/transformers/src/transformers/models/pyramidions/modeling_pyramidions.py?line=925'>926</a>\u001b[0m     attention_mask\u001b[39m=\u001b[39;49mextended_attention_mask,\n\u001b[1;32m    <a href='file:///Users/lennartkeller/Uni/transformers/src/transformers/models/pyramidions/modeling_pyramidions.py?line=926'>927</a>\u001b[0m     head_mask\u001b[39m=\u001b[39;49mhead_mask,\n\u001b[1;32m    <a href='file:///Users/lennartkeller/Uni/transformers/src/transformers/models/pyramidions/modeling_pyramidions.py?line=927'>928</a>\u001b[0m     encoder_hidden_states\u001b[39m=\u001b[39;49mencoder_hidden_states,\n\u001b[1;32m    <a href='file:///Users/lennartkeller/Uni/transformers/src/transformers/models/pyramidions/modeling_pyramidions.py?line=928'>929</a>\u001b[0m     encoder_attention_mask\u001b[39m=\u001b[39;49mencoder_extended_attention_mask,\n\u001b[1;32m    <a href='file:///Users/lennartkeller/Uni/transformers/src/transformers/models/pyramidions/modeling_pyramidions.py?line=929'>930</a>\u001b[0m     past_key_values\u001b[39m=\u001b[39;49mpast_key_values,\n\u001b[1;32m    <a href='file:///Users/lennartkeller/Uni/transformers/src/transformers/models/pyramidions/modeling_pyramidions.py?line=930'>931</a>\u001b[0m     use_cache\u001b[39m=\u001b[39;49muse_cache,\n\u001b[1;32m    <a href='file:///Users/lennartkeller/Uni/transformers/src/transformers/models/pyramidions/modeling_pyramidions.py?line=931'>932</a>\u001b[0m     output_attentions\u001b[39m=\u001b[39;49moutput_attentions,\n\u001b[1;32m    <a href='file:///Users/lennartkeller/Uni/transformers/src/transformers/models/pyramidions/modeling_pyramidions.py?line=932'>933</a>\u001b[0m     output_hidden_states\u001b[39m=\u001b[39;49moutput_hidden_states,\n\u001b[1;32m    <a href='file:///Users/lennartkeller/Uni/transformers/src/transformers/models/pyramidions/modeling_pyramidions.py?line=933'>934</a>\u001b[0m     return_dict\u001b[39m=\u001b[39;49mreturn_dict,\n\u001b[1;32m    <a href='file:///Users/lennartkeller/Uni/transformers/src/transformers/models/pyramidions/modeling_pyramidions.py?line=934'>935</a>\u001b[0m )\n\u001b[1;32m    <a href='file:///Users/lennartkeller/Uni/transformers/src/transformers/models/pyramidions/modeling_pyramidions.py?line=935'>936</a>\u001b[0m sequence_output \u001b[39m=\u001b[39m encoder_outputs[\u001b[39m0\u001b[39m]\n\u001b[1;32m    <a href='file:///Users/lennartkeller/Uni/transformers/src/transformers/models/pyramidions/modeling_pyramidions.py?line=936'>937</a>\u001b[0m pooled_output \u001b[39m=\u001b[39m \u001b[39mself\u001b[39m\u001b[39m.\u001b[39mpooler(sequence_output) \u001b[39mif\u001b[39;00m \u001b[39mself\u001b[39m\u001b[39m.\u001b[39mpooler \u001b[39mis\u001b[39;00m \u001b[39mnot\u001b[39;00m \u001b[39mNone\u001b[39;00m \u001b[39melse\u001b[39;00m \u001b[39mNone\u001b[39;00m\n",
      "File \u001b[0;32m/opt/homebrew/Caskroom/miniforge/base/envs/transformers_dev/lib/python3.9/site-packages/torch/nn/modules/module.py:1110\u001b[0m, in \u001b[0;36mModule._call_impl\u001b[0;34m(self, *input, **kwargs)\u001b[0m\n\u001b[1;32m   <a href='file:///opt/homebrew/Caskroom/miniforge/base/envs/transformers_dev/lib/python3.9/site-packages/torch/nn/modules/module.py?line=1105'>1106</a>\u001b[0m \u001b[39m# If we don't have any hooks, we want to skip the rest of the logic in\u001b[39;00m\n\u001b[1;32m   <a href='file:///opt/homebrew/Caskroom/miniforge/base/envs/transformers_dev/lib/python3.9/site-packages/torch/nn/modules/module.py?line=1106'>1107</a>\u001b[0m \u001b[39m# this function, and just call forward.\u001b[39;00m\n\u001b[1;32m   <a href='file:///opt/homebrew/Caskroom/miniforge/base/envs/transformers_dev/lib/python3.9/site-packages/torch/nn/modules/module.py?line=1107'>1108</a>\u001b[0m \u001b[39mif\u001b[39;00m \u001b[39mnot\u001b[39;00m (\u001b[39mself\u001b[39m\u001b[39m.\u001b[39m_backward_hooks \u001b[39mor\u001b[39;00m \u001b[39mself\u001b[39m\u001b[39m.\u001b[39m_forward_hooks \u001b[39mor\u001b[39;00m \u001b[39mself\u001b[39m\u001b[39m.\u001b[39m_forward_pre_hooks \u001b[39mor\u001b[39;00m _global_backward_hooks\n\u001b[1;32m   <a href='file:///opt/homebrew/Caskroom/miniforge/base/envs/transformers_dev/lib/python3.9/site-packages/torch/nn/modules/module.py?line=1108'>1109</a>\u001b[0m         \u001b[39mor\u001b[39;00m _global_forward_hooks \u001b[39mor\u001b[39;00m _global_forward_pre_hooks):\n\u001b[0;32m-> <a href='file:///opt/homebrew/Caskroom/miniforge/base/envs/transformers_dev/lib/python3.9/site-packages/torch/nn/modules/module.py?line=1109'>1110</a>\u001b[0m     \u001b[39mreturn\u001b[39;00m forward_call(\u001b[39m*\u001b[39;49m\u001b[39minput\u001b[39;49m, \u001b[39m*\u001b[39;49m\u001b[39m*\u001b[39;49mkwargs)\n\u001b[1;32m   <a href='file:///opt/homebrew/Caskroom/miniforge/base/envs/transformers_dev/lib/python3.9/site-packages/torch/nn/modules/module.py?line=1110'>1111</a>\u001b[0m \u001b[39m# Do not call functions when jit is used\u001b[39;00m\n\u001b[1;32m   <a href='file:///opt/homebrew/Caskroom/miniforge/base/envs/transformers_dev/lib/python3.9/site-packages/torch/nn/modules/module.py?line=1111'>1112</a>\u001b[0m full_backward_hooks, non_full_backward_hooks \u001b[39m=\u001b[39m [], []\n",
      "File \u001b[0;32m~/Uni/transformers/src/transformers/models/pyramidions/modeling_pyramidions.py:601\u001b[0m, in \u001b[0;36mPyramidionsEncoder.forward\u001b[0;34m(self, hidden_states, attention_mask, head_mask, encoder_hidden_states, encoder_attention_mask, past_key_values, use_cache, output_attentions, output_hidden_states, return_dict)\u001b[0m\n\u001b[1;32m    <a href='file:///Users/lennartkeller/Uni/transformers/src/transformers/models/pyramidions/modeling_pyramidions.py?line=591'>592</a>\u001b[0m     layer_outputs \u001b[39m=\u001b[39m torch\u001b[39m.\u001b[39mutils\u001b[39m.\u001b[39mcheckpoint\u001b[39m.\u001b[39mcheckpoint(\n\u001b[1;32m    <a href='file:///Users/lennartkeller/Uni/transformers/src/transformers/models/pyramidions/modeling_pyramidions.py?line=592'>593</a>\u001b[0m         create_custom_forward(layer_module),\n\u001b[1;32m    <a href='file:///Users/lennartkeller/Uni/transformers/src/transformers/models/pyramidions/modeling_pyramidions.py?line=593'>594</a>\u001b[0m         hidden_states,\n\u001b[0;32m   (...)\u001b[0m\n\u001b[1;32m    <a href='file:///Users/lennartkeller/Uni/transformers/src/transformers/models/pyramidions/modeling_pyramidions.py?line=597'>598</a>\u001b[0m         encoder_attention_mask,\n\u001b[1;32m    <a href='file:///Users/lennartkeller/Uni/transformers/src/transformers/models/pyramidions/modeling_pyramidions.py?line=598'>599</a>\u001b[0m     )\n\u001b[1;32m    <a href='file:///Users/lennartkeller/Uni/transformers/src/transformers/models/pyramidions/modeling_pyramidions.py?line=599'>600</a>\u001b[0m \u001b[39melse\u001b[39;00m:\n\u001b[0;32m--> <a href='file:///Users/lennartkeller/Uni/transformers/src/transformers/models/pyramidions/modeling_pyramidions.py?line=600'>601</a>\u001b[0m     layer_outputs \u001b[39m=\u001b[39m layer_module(\n\u001b[1;32m    <a href='file:///Users/lennartkeller/Uni/transformers/src/transformers/models/pyramidions/modeling_pyramidions.py?line=601'>602</a>\u001b[0m         hidden_states,\n\u001b[1;32m    <a href='file:///Users/lennartkeller/Uni/transformers/src/transformers/models/pyramidions/modeling_pyramidions.py?line=602'>603</a>\u001b[0m         attention_mask,\n\u001b[1;32m    <a href='file:///Users/lennartkeller/Uni/transformers/src/transformers/models/pyramidions/modeling_pyramidions.py?line=603'>604</a>\u001b[0m         layer_head_mask,\n\u001b[1;32m    <a href='file:///Users/lennartkeller/Uni/transformers/src/transformers/models/pyramidions/modeling_pyramidions.py?line=604'>605</a>\u001b[0m         encoder_hidden_states,\n\u001b[1;32m    <a href='file:///Users/lennartkeller/Uni/transformers/src/transformers/models/pyramidions/modeling_pyramidions.py?line=605'>606</a>\u001b[0m         encoder_attention_mask,\n\u001b[1;32m    <a href='file:///Users/lennartkeller/Uni/transformers/src/transformers/models/pyramidions/modeling_pyramidions.py?line=606'>607</a>\u001b[0m         past_key_value,\n\u001b[1;32m    <a href='file:///Users/lennartkeller/Uni/transformers/src/transformers/models/pyramidions/modeling_pyramidions.py?line=607'>608</a>\u001b[0m         output_attentions,\n\u001b[1;32m    <a href='file:///Users/lennartkeller/Uni/transformers/src/transformers/models/pyramidions/modeling_pyramidions.py?line=608'>609</a>\u001b[0m     )\n\u001b[1;32m    <a href='file:///Users/lennartkeller/Uni/transformers/src/transformers/models/pyramidions/modeling_pyramidions.py?line=610'>611</a>\u001b[0m hidden_states \u001b[39m=\u001b[39m layer_outputs[\u001b[39m0\u001b[39m]\n\u001b[1;32m    <a href='file:///Users/lennartkeller/Uni/transformers/src/transformers/models/pyramidions/modeling_pyramidions.py?line=611'>612</a>\u001b[0m \u001b[39mif\u001b[39;00m use_cache:\n",
      "File \u001b[0;32m/opt/homebrew/Caskroom/miniforge/base/envs/transformers_dev/lib/python3.9/site-packages/torch/nn/modules/module.py:1110\u001b[0m, in \u001b[0;36mModule._call_impl\u001b[0;34m(self, *input, **kwargs)\u001b[0m\n\u001b[1;32m   <a href='file:///opt/homebrew/Caskroom/miniforge/base/envs/transformers_dev/lib/python3.9/site-packages/torch/nn/modules/module.py?line=1105'>1106</a>\u001b[0m \u001b[39m# If we don't have any hooks, we want to skip the rest of the logic in\u001b[39;00m\n\u001b[1;32m   <a href='file:///opt/homebrew/Caskroom/miniforge/base/envs/transformers_dev/lib/python3.9/site-packages/torch/nn/modules/module.py?line=1106'>1107</a>\u001b[0m \u001b[39m# this function, and just call forward.\u001b[39;00m\n\u001b[1;32m   <a href='file:///opt/homebrew/Caskroom/miniforge/base/envs/transformers_dev/lib/python3.9/site-packages/torch/nn/modules/module.py?line=1107'>1108</a>\u001b[0m \u001b[39mif\u001b[39;00m \u001b[39mnot\u001b[39;00m (\u001b[39mself\u001b[39m\u001b[39m.\u001b[39m_backward_hooks \u001b[39mor\u001b[39;00m \u001b[39mself\u001b[39m\u001b[39m.\u001b[39m_forward_hooks \u001b[39mor\u001b[39;00m \u001b[39mself\u001b[39m\u001b[39m.\u001b[39m_forward_pre_hooks \u001b[39mor\u001b[39;00m _global_backward_hooks\n\u001b[1;32m   <a href='file:///opt/homebrew/Caskroom/miniforge/base/envs/transformers_dev/lib/python3.9/site-packages/torch/nn/modules/module.py?line=1108'>1109</a>\u001b[0m         \u001b[39mor\u001b[39;00m _global_forward_hooks \u001b[39mor\u001b[39;00m _global_forward_pre_hooks):\n\u001b[0;32m-> <a href='file:///opt/homebrew/Caskroom/miniforge/base/envs/transformers_dev/lib/python3.9/site-packages/torch/nn/modules/module.py?line=1109'>1110</a>\u001b[0m     \u001b[39mreturn\u001b[39;00m forward_call(\u001b[39m*\u001b[39;49m\u001b[39minput\u001b[39;49m, \u001b[39m*\u001b[39;49m\u001b[39m*\u001b[39;49mkwargs)\n\u001b[1;32m   <a href='file:///opt/homebrew/Caskroom/miniforge/base/envs/transformers_dev/lib/python3.9/site-packages/torch/nn/modules/module.py?line=1110'>1111</a>\u001b[0m \u001b[39m# Do not call functions when jit is used\u001b[39;00m\n\u001b[1;32m   <a href='file:///opt/homebrew/Caskroom/miniforge/base/envs/transformers_dev/lib/python3.9/site-packages/torch/nn/modules/module.py?line=1111'>1112</a>\u001b[0m full_backward_hooks, non_full_backward_hooks \u001b[39m=\u001b[39m [], []\n",
      "File \u001b[0;32m~/Uni/transformers/src/transformers/models/pyramidions/modeling_pyramidions.py:485\u001b[0m, in \u001b[0;36mPyramidionsLayer.forward\u001b[0;34m(self, hidden_states, attention_mask, head_mask, encoder_hidden_states, encoder_attention_mask, past_key_value, output_attentions)\u001b[0m\n\u001b[1;32m    <a href='file:///Users/lennartkeller/Uni/transformers/src/transformers/models/pyramidions/modeling_pyramidions.py?line=482'>483</a>\u001b[0m attention_mask \u001b[39m=\u001b[39m attention_mask[\u001b[39m.\u001b[39m\u001b[39m.\u001b[39m\u001b[39m.\u001b[39m, :hidden_states\u001b[39m.\u001b[39msize(\u001b[39m1\u001b[39m)]\n\u001b[1;32m    <a href='file:///Users/lennartkeller/Uni/transformers/src/transformers/models/pyramidions/modeling_pyramidions.py?line=483'>484</a>\u001b[0m \u001b[39m#print(f\"Attention mask size: {attention_mask.size()}\")\u001b[39;00m\n\u001b[0;32m--> <a href='file:///Users/lennartkeller/Uni/transformers/src/transformers/models/pyramidions/modeling_pyramidions.py?line=484'>485</a>\u001b[0m self_attention_outputs \u001b[39m=\u001b[39m \u001b[39mself\u001b[39;49m\u001b[39m.\u001b[39;49mattention(\n\u001b[1;32m    <a href='file:///Users/lennartkeller/Uni/transformers/src/transformers/models/pyramidions/modeling_pyramidions.py?line=485'>486</a>\u001b[0m     hidden_states,\n\u001b[1;32m    <a href='file:///Users/lennartkeller/Uni/transformers/src/transformers/models/pyramidions/modeling_pyramidions.py?line=486'>487</a>\u001b[0m     attention_mask,\n\u001b[1;32m    <a href='file:///Users/lennartkeller/Uni/transformers/src/transformers/models/pyramidions/modeling_pyramidions.py?line=487'>488</a>\u001b[0m     head_mask,\n\u001b[1;32m    <a href='file:///Users/lennartkeller/Uni/transformers/src/transformers/models/pyramidions/modeling_pyramidions.py?line=488'>489</a>\u001b[0m     output_attentions\u001b[39m=\u001b[39;49moutput_attentions,\n\u001b[1;32m    <a href='file:///Users/lennartkeller/Uni/transformers/src/transformers/models/pyramidions/modeling_pyramidions.py?line=489'>490</a>\u001b[0m     past_key_value\u001b[39m=\u001b[39;49mself_attn_past_key_value,\n\u001b[1;32m    <a href='file:///Users/lennartkeller/Uni/transformers/src/transformers/models/pyramidions/modeling_pyramidions.py?line=490'>491</a>\u001b[0m )\n\u001b[1;32m    <a href='file:///Users/lennartkeller/Uni/transformers/src/transformers/models/pyramidions/modeling_pyramidions.py?line=491'>492</a>\u001b[0m attention_output \u001b[39m=\u001b[39m self_attention_outputs[\u001b[39m0\u001b[39m]\n\u001b[1;32m    <a href='file:///Users/lennartkeller/Uni/transformers/src/transformers/models/pyramidions/modeling_pyramidions.py?line=493'>494</a>\u001b[0m \u001b[39m# if decoder, the last output is tuple of self-attn cache\u001b[39;00m\n",
      "File \u001b[0;32m/opt/homebrew/Caskroom/miniforge/base/envs/transformers_dev/lib/python3.9/site-packages/torch/nn/modules/module.py:1110\u001b[0m, in \u001b[0;36mModule._call_impl\u001b[0;34m(self, *input, **kwargs)\u001b[0m\n\u001b[1;32m   <a href='file:///opt/homebrew/Caskroom/miniforge/base/envs/transformers_dev/lib/python3.9/site-packages/torch/nn/modules/module.py?line=1105'>1106</a>\u001b[0m \u001b[39m# If we don't have any hooks, we want to skip the rest of the logic in\u001b[39;00m\n\u001b[1;32m   <a href='file:///opt/homebrew/Caskroom/miniforge/base/envs/transformers_dev/lib/python3.9/site-packages/torch/nn/modules/module.py?line=1106'>1107</a>\u001b[0m \u001b[39m# this function, and just call forward.\u001b[39;00m\n\u001b[1;32m   <a href='file:///opt/homebrew/Caskroom/miniforge/base/envs/transformers_dev/lib/python3.9/site-packages/torch/nn/modules/module.py?line=1107'>1108</a>\u001b[0m \u001b[39mif\u001b[39;00m \u001b[39mnot\u001b[39;00m (\u001b[39mself\u001b[39m\u001b[39m.\u001b[39m_backward_hooks \u001b[39mor\u001b[39;00m \u001b[39mself\u001b[39m\u001b[39m.\u001b[39m_forward_hooks \u001b[39mor\u001b[39;00m \u001b[39mself\u001b[39m\u001b[39m.\u001b[39m_forward_pre_hooks \u001b[39mor\u001b[39;00m _global_backward_hooks\n\u001b[1;32m   <a href='file:///opt/homebrew/Caskroom/miniforge/base/envs/transformers_dev/lib/python3.9/site-packages/torch/nn/modules/module.py?line=1108'>1109</a>\u001b[0m         \u001b[39mor\u001b[39;00m _global_forward_hooks \u001b[39mor\u001b[39;00m _global_forward_pre_hooks):\n\u001b[0;32m-> <a href='file:///opt/homebrew/Caskroom/miniforge/base/envs/transformers_dev/lib/python3.9/site-packages/torch/nn/modules/module.py?line=1109'>1110</a>\u001b[0m     \u001b[39mreturn\u001b[39;00m forward_call(\u001b[39m*\u001b[39;49m\u001b[39minput\u001b[39;49m, \u001b[39m*\u001b[39;49m\u001b[39m*\u001b[39;49mkwargs)\n\u001b[1;32m   <a href='file:///opt/homebrew/Caskroom/miniforge/base/envs/transformers_dev/lib/python3.9/site-packages/torch/nn/modules/module.py?line=1110'>1111</a>\u001b[0m \u001b[39m# Do not call functions when jit is used\u001b[39;00m\n\u001b[1;32m   <a href='file:///opt/homebrew/Caskroom/miniforge/base/envs/transformers_dev/lib/python3.9/site-packages/torch/nn/modules/module.py?line=1111'>1112</a>\u001b[0m full_backward_hooks, non_full_backward_hooks \u001b[39m=\u001b[39m [], []\n",
      "File \u001b[0;32m~/Uni/transformers/src/transformers/models/pyramidions/modeling_pyramidions.py:407\u001b[0m, in \u001b[0;36mPyramidionsAttention.forward\u001b[0;34m(self, hidden_states, attention_mask, head_mask, encoder_hidden_states, encoder_attention_mask, past_key_value, output_attentions)\u001b[0m\n\u001b[1;32m    <a href='file:///Users/lennartkeller/Uni/transformers/src/transformers/models/pyramidions/modeling_pyramidions.py?line=396'>397</a>\u001b[0m \u001b[39mdef\u001b[39;00m \u001b[39mforward\u001b[39m(\n\u001b[1;32m    <a href='file:///Users/lennartkeller/Uni/transformers/src/transformers/models/pyramidions/modeling_pyramidions.py?line=397'>398</a>\u001b[0m     \u001b[39mself\u001b[39m,\n\u001b[1;32m    <a href='file:///Users/lennartkeller/Uni/transformers/src/transformers/models/pyramidions/modeling_pyramidions.py?line=398'>399</a>\u001b[0m     hidden_states: torch\u001b[39m.\u001b[39mTensor,\n\u001b[0;32m   (...)\u001b[0m\n\u001b[1;32m    <a href='file:///Users/lennartkeller/Uni/transformers/src/transformers/models/pyramidions/modeling_pyramidions.py?line=404'>405</a>\u001b[0m     output_attentions: Optional[\u001b[39mbool\u001b[39m] \u001b[39m=\u001b[39m \u001b[39mFalse\u001b[39;00m,\n\u001b[1;32m    <a href='file:///Users/lennartkeller/Uni/transformers/src/transformers/models/pyramidions/modeling_pyramidions.py?line=405'>406</a>\u001b[0m ) \u001b[39m-\u001b[39m\u001b[39m>\u001b[39m Tuple[torch\u001b[39m.\u001b[39mTensor]:\n\u001b[0;32m--> <a href='file:///Users/lennartkeller/Uni/transformers/src/transformers/models/pyramidions/modeling_pyramidions.py?line=406'>407</a>\u001b[0m     self_outputs \u001b[39m=\u001b[39m \u001b[39mself\u001b[39;49m\u001b[39m.\u001b[39;49mself(\n\u001b[1;32m    <a href='file:///Users/lennartkeller/Uni/transformers/src/transformers/models/pyramidions/modeling_pyramidions.py?line=407'>408</a>\u001b[0m         hidden_states,\n\u001b[1;32m    <a href='file:///Users/lennartkeller/Uni/transformers/src/transformers/models/pyramidions/modeling_pyramidions.py?line=408'>409</a>\u001b[0m         attention_mask,\n\u001b[1;32m    <a href='file:///Users/lennartkeller/Uni/transformers/src/transformers/models/pyramidions/modeling_pyramidions.py?line=409'>410</a>\u001b[0m         head_mask,\n\u001b[1;32m    <a href='file:///Users/lennartkeller/Uni/transformers/src/transformers/models/pyramidions/modeling_pyramidions.py?line=410'>411</a>\u001b[0m         encoder_hidden_states,\n\u001b[1;32m    <a href='file:///Users/lennartkeller/Uni/transformers/src/transformers/models/pyramidions/modeling_pyramidions.py?line=411'>412</a>\u001b[0m         encoder_attention_mask,\n\u001b[1;32m    <a href='file:///Users/lennartkeller/Uni/transformers/src/transformers/models/pyramidions/modeling_pyramidions.py?line=412'>413</a>\u001b[0m         past_key_value,\n\u001b[1;32m    <a href='file:///Users/lennartkeller/Uni/transformers/src/transformers/models/pyramidions/modeling_pyramidions.py?line=413'>414</a>\u001b[0m         output_attentions,\n\u001b[1;32m    <a href='file:///Users/lennartkeller/Uni/transformers/src/transformers/models/pyramidions/modeling_pyramidions.py?line=414'>415</a>\u001b[0m     )\n\u001b[1;32m    <a href='file:///Users/lennartkeller/Uni/transformers/src/transformers/models/pyramidions/modeling_pyramidions.py?line=415'>416</a>\u001b[0m     attention_output \u001b[39m=\u001b[39m \u001b[39mself\u001b[39m\u001b[39m.\u001b[39moutput(self_outputs[\u001b[39m0\u001b[39m], hidden_states)\n\u001b[1;32m    <a href='file:///Users/lennartkeller/Uni/transformers/src/transformers/models/pyramidions/modeling_pyramidions.py?line=416'>417</a>\u001b[0m     outputs \u001b[39m=\u001b[39m (attention_output,) \u001b[39m+\u001b[39m self_outputs[\u001b[39m1\u001b[39m:]  \u001b[39m# add attentions if we output them\u001b[39;00m\n",
      "File \u001b[0;32m/opt/homebrew/Caskroom/miniforge/base/envs/transformers_dev/lib/python3.9/site-packages/torch/nn/modules/module.py:1110\u001b[0m, in \u001b[0;36mModule._call_impl\u001b[0;34m(self, *input, **kwargs)\u001b[0m\n\u001b[1;32m   <a href='file:///opt/homebrew/Caskroom/miniforge/base/envs/transformers_dev/lib/python3.9/site-packages/torch/nn/modules/module.py?line=1105'>1106</a>\u001b[0m \u001b[39m# If we don't have any hooks, we want to skip the rest of the logic in\u001b[39;00m\n\u001b[1;32m   <a href='file:///opt/homebrew/Caskroom/miniforge/base/envs/transformers_dev/lib/python3.9/site-packages/torch/nn/modules/module.py?line=1106'>1107</a>\u001b[0m \u001b[39m# this function, and just call forward.\u001b[39;00m\n\u001b[1;32m   <a href='file:///opt/homebrew/Caskroom/miniforge/base/envs/transformers_dev/lib/python3.9/site-packages/torch/nn/modules/module.py?line=1107'>1108</a>\u001b[0m \u001b[39mif\u001b[39;00m \u001b[39mnot\u001b[39;00m (\u001b[39mself\u001b[39m\u001b[39m.\u001b[39m_backward_hooks \u001b[39mor\u001b[39;00m \u001b[39mself\u001b[39m\u001b[39m.\u001b[39m_forward_hooks \u001b[39mor\u001b[39;00m \u001b[39mself\u001b[39m\u001b[39m.\u001b[39m_forward_pre_hooks \u001b[39mor\u001b[39;00m _global_backward_hooks\n\u001b[1;32m   <a href='file:///opt/homebrew/Caskroom/miniforge/base/envs/transformers_dev/lib/python3.9/site-packages/torch/nn/modules/module.py?line=1108'>1109</a>\u001b[0m         \u001b[39mor\u001b[39;00m _global_forward_hooks \u001b[39mor\u001b[39;00m _global_forward_pre_hooks):\n\u001b[0;32m-> <a href='file:///opt/homebrew/Caskroom/miniforge/base/envs/transformers_dev/lib/python3.9/site-packages/torch/nn/modules/module.py?line=1109'>1110</a>\u001b[0m     \u001b[39mreturn\u001b[39;00m forward_call(\u001b[39m*\u001b[39;49m\u001b[39minput\u001b[39;49m, \u001b[39m*\u001b[39;49m\u001b[39m*\u001b[39;49mkwargs)\n\u001b[1;32m   <a href='file:///opt/homebrew/Caskroom/miniforge/base/envs/transformers_dev/lib/python3.9/site-packages/torch/nn/modules/module.py?line=1110'>1111</a>\u001b[0m \u001b[39m# Do not call functions when jit is used\u001b[39;00m\n\u001b[1;32m   <a href='file:///opt/homebrew/Caskroom/miniforge/base/envs/transformers_dev/lib/python3.9/site-packages/torch/nn/modules/module.py?line=1111'>1112</a>\u001b[0m full_backward_hooks, non_full_backward_hooks \u001b[39m=\u001b[39m [], []\n",
      "File \u001b[0;32m~/Uni/transformers/src/transformers/models/pyramidions/modeling_pyramidions.py:337\u001b[0m, in \u001b[0;36mPyramidionsSelfAttention.forward\u001b[0;34m(self, hidden_states, attention_mask, head_mask, encoder_hidden_states, encoder_attention_mask, past_key_value, output_attentions)\u001b[0m\n\u001b[1;32m    <a href='file:///Users/lennartkeller/Uni/transformers/src/transformers/models/pyramidions/modeling_pyramidions.py?line=332'>333</a>\u001b[0m attention_probs \u001b[39m=\u001b[39m nn\u001b[39m.\u001b[39mfunctional\u001b[39m.\u001b[39msoftmax(attention_scores, dim\u001b[39m=\u001b[39m\u001b[39m-\u001b[39m\u001b[39m1\u001b[39m)\n\u001b[1;32m    <a href='file:///Users/lennartkeller/Uni/transformers/src/transformers/models/pyramidions/modeling_pyramidions.py?line=334'>335</a>\u001b[0m \u001b[39m# This is actually dropping out entire tokens to attend to, which might\u001b[39;00m\n\u001b[1;32m    <a href='file:///Users/lennartkeller/Uni/transformers/src/transformers/models/pyramidions/modeling_pyramidions.py?line=335'>336</a>\u001b[0m \u001b[39m# seem a bit unusual, but is taken from the original Transformer paper.\u001b[39;00m\n\u001b[0;32m--> <a href='file:///Users/lennartkeller/Uni/transformers/src/transformers/models/pyramidions/modeling_pyramidions.py?line=336'>337</a>\u001b[0m attention_probs \u001b[39m=\u001b[39m \u001b[39mself\u001b[39;49m\u001b[39m.\u001b[39;49mdropout(attention_probs)\n\u001b[1;32m    <a href='file:///Users/lennartkeller/Uni/transformers/src/transformers/models/pyramidions/modeling_pyramidions.py?line=338'>339</a>\u001b[0m \u001b[39m# Mask heads if we want to\u001b[39;00m\n\u001b[1;32m    <a href='file:///Users/lennartkeller/Uni/transformers/src/transformers/models/pyramidions/modeling_pyramidions.py?line=339'>340</a>\u001b[0m \u001b[39mif\u001b[39;00m head_mask \u001b[39mis\u001b[39;00m \u001b[39mnot\u001b[39;00m \u001b[39mNone\u001b[39;00m:\n",
      "File \u001b[0;32m/opt/homebrew/Caskroom/miniforge/base/envs/transformers_dev/lib/python3.9/site-packages/torch/nn/modules/module.py:1110\u001b[0m, in \u001b[0;36mModule._call_impl\u001b[0;34m(self, *input, **kwargs)\u001b[0m\n\u001b[1;32m   <a href='file:///opt/homebrew/Caskroom/miniforge/base/envs/transformers_dev/lib/python3.9/site-packages/torch/nn/modules/module.py?line=1105'>1106</a>\u001b[0m \u001b[39m# If we don't have any hooks, we want to skip the rest of the logic in\u001b[39;00m\n\u001b[1;32m   <a href='file:///opt/homebrew/Caskroom/miniforge/base/envs/transformers_dev/lib/python3.9/site-packages/torch/nn/modules/module.py?line=1106'>1107</a>\u001b[0m \u001b[39m# this function, and just call forward.\u001b[39;00m\n\u001b[1;32m   <a href='file:///opt/homebrew/Caskroom/miniforge/base/envs/transformers_dev/lib/python3.9/site-packages/torch/nn/modules/module.py?line=1107'>1108</a>\u001b[0m \u001b[39mif\u001b[39;00m \u001b[39mnot\u001b[39;00m (\u001b[39mself\u001b[39m\u001b[39m.\u001b[39m_backward_hooks \u001b[39mor\u001b[39;00m \u001b[39mself\u001b[39m\u001b[39m.\u001b[39m_forward_hooks \u001b[39mor\u001b[39;00m \u001b[39mself\u001b[39m\u001b[39m.\u001b[39m_forward_pre_hooks \u001b[39mor\u001b[39;00m _global_backward_hooks\n\u001b[1;32m   <a href='file:///opt/homebrew/Caskroom/miniforge/base/envs/transformers_dev/lib/python3.9/site-packages/torch/nn/modules/module.py?line=1108'>1109</a>\u001b[0m         \u001b[39mor\u001b[39;00m _global_forward_hooks \u001b[39mor\u001b[39;00m _global_forward_pre_hooks):\n\u001b[0;32m-> <a href='file:///opt/homebrew/Caskroom/miniforge/base/envs/transformers_dev/lib/python3.9/site-packages/torch/nn/modules/module.py?line=1109'>1110</a>\u001b[0m     \u001b[39mreturn\u001b[39;00m forward_call(\u001b[39m*\u001b[39;49m\u001b[39minput\u001b[39;49m, \u001b[39m*\u001b[39;49m\u001b[39m*\u001b[39;49mkwargs)\n\u001b[1;32m   <a href='file:///opt/homebrew/Caskroom/miniforge/base/envs/transformers_dev/lib/python3.9/site-packages/torch/nn/modules/module.py?line=1110'>1111</a>\u001b[0m \u001b[39m# Do not call functions when jit is used\u001b[39;00m\n\u001b[1;32m   <a href='file:///opt/homebrew/Caskroom/miniforge/base/envs/transformers_dev/lib/python3.9/site-packages/torch/nn/modules/module.py?line=1111'>1112</a>\u001b[0m full_backward_hooks, non_full_backward_hooks \u001b[39m=\u001b[39m [], []\n",
      "File \u001b[0;32m/opt/homebrew/Caskroom/miniforge/base/envs/transformers_dev/lib/python3.9/site-packages/torch/nn/modules/dropout.py:58\u001b[0m, in \u001b[0;36mDropout.forward\u001b[0;34m(self, input)\u001b[0m\n\u001b[1;32m     <a href='file:///opt/homebrew/Caskroom/miniforge/base/envs/transformers_dev/lib/python3.9/site-packages/torch/nn/modules/dropout.py?line=56'>57</a>\u001b[0m \u001b[39mdef\u001b[39;00m \u001b[39mforward\u001b[39m(\u001b[39mself\u001b[39m, \u001b[39minput\u001b[39m: Tensor) \u001b[39m-\u001b[39m\u001b[39m>\u001b[39m Tensor:\n\u001b[0;32m---> <a href='file:///opt/homebrew/Caskroom/miniforge/base/envs/transformers_dev/lib/python3.9/site-packages/torch/nn/modules/dropout.py?line=57'>58</a>\u001b[0m     \u001b[39mreturn\u001b[39;00m F\u001b[39m.\u001b[39;49mdropout(\u001b[39minput\u001b[39;49m, \u001b[39mself\u001b[39;49m\u001b[39m.\u001b[39;49mp, \u001b[39mself\u001b[39;49m\u001b[39m.\u001b[39;49mtraining, \u001b[39mself\u001b[39;49m\u001b[39m.\u001b[39;49minplace)\n",
      "File \u001b[0;32m/opt/homebrew/Caskroom/miniforge/base/envs/transformers_dev/lib/python3.9/site-packages/torch/nn/functional.py:1279\u001b[0m, in \u001b[0;36mdropout\u001b[0;34m(input, p, training, inplace)\u001b[0m\n\u001b[1;32m   <a href='file:///opt/homebrew/Caskroom/miniforge/base/envs/transformers_dev/lib/python3.9/site-packages/torch/nn/functional.py?line=1276'>1277</a>\u001b[0m \u001b[39mif\u001b[39;00m p \u001b[39m<\u001b[39m \u001b[39m0.0\u001b[39m \u001b[39mor\u001b[39;00m p \u001b[39m>\u001b[39m \u001b[39m1.0\u001b[39m:\n\u001b[1;32m   <a href='file:///opt/homebrew/Caskroom/miniforge/base/envs/transformers_dev/lib/python3.9/site-packages/torch/nn/functional.py?line=1277'>1278</a>\u001b[0m     \u001b[39mraise\u001b[39;00m \u001b[39mValueError\u001b[39;00m(\u001b[39m\"\u001b[39m\u001b[39mdropout probability has to be between 0 and 1, \u001b[39m\u001b[39m\"\u001b[39m \u001b[39m\"\u001b[39m\u001b[39mbut got \u001b[39m\u001b[39m{}\u001b[39;00m\u001b[39m\"\u001b[39m\u001b[39m.\u001b[39mformat(p))\n\u001b[0;32m-> <a href='file:///opt/homebrew/Caskroom/miniforge/base/envs/transformers_dev/lib/python3.9/site-packages/torch/nn/functional.py?line=1278'>1279</a>\u001b[0m \u001b[39mreturn\u001b[39;00m _VF\u001b[39m.\u001b[39mdropout_(\u001b[39minput\u001b[39m, p, training) \u001b[39mif\u001b[39;00m inplace \u001b[39melse\u001b[39;00m _VF\u001b[39m.\u001b[39;49mdropout(\u001b[39minput\u001b[39;49m, p, training)\n",
      "\u001b[0;31mKeyboardInterrupt\u001b[0m: "
     ]
    }
   ],
   "source": [
    "trainer.train()"
   ]
  },
  {
   "cell_type": "code",
   "execution_count": 113,
   "metadata": {},
   "outputs": [],
   "source": [
    "def peaked_softmax1(x: Tensor, dim: int = 0) -> Tensor:\n",
    "    \"\"\"\n",
    "    Implementation according to pseudocode in https://arxiv.org/pdf/2010.15552.pdf\n",
    "    \"\"\"\n",
    "    denom = torch.sum(torch.exp(x) - torch.exp(torch.max(x, dim=dim).values.unsqueeze(dim)), dim=dim).unsqueeze(dim)\n",
    "    return torch.exp(x) * (1/denom)\n"
   ]
  },
  {
   "cell_type": "code",
   "execution_count": 114,
   "metadata": {},
   "outputs": [],
   "source": [
    "x = torch.tensor([\n",
    "    [0.1, 0.11, 0.112],\n",
    "    [0.1, 0.11, 0.09],\n",
    "    [0.1, 0.11, 0.9]\n",
    "])"
   ]
  },
  {
   "cell_type": "code",
   "execution_count": 115,
   "metadata": {},
   "outputs": [
    {
     "data": {
      "text/plain": [
       "tensor([[-6.4198, -7.0618, -7.1902],\n",
       "        [-3.0111, -3.3122, -2.7100],\n",
       "        [-0.0371, -0.0408, -0.3336]])"
      ]
     },
     "execution_count": 115,
     "metadata": {},
     "output_type": "execute_result"
    }
   ],
   "source": [
    "peaked_softmax(x, dim=1)"
   ]
  },
  {
   "cell_type": "code",
   "execution_count": 77,
   "metadata": {},
   "outputs": [
    {
     "data": {
      "text/plain": [
       "tensor([[1.2621],\n",
       "        [1.6922],\n",
       "        [1.7082],\n",
       "        [1.8472],\n",
       "        [1.2688],\n",
       "        [1.6467],\n",
       "        [1.6058],\n",
       "        [1.4219],\n",
       "        [1.5811],\n",
       "        [1.3146],\n",
       "        [1.2749],\n",
       "        [1.8392],\n",
       "        [1.6321],\n",
       "        [1.5127],\n",
       "        [2.5382],\n",
       "        [2.1962]])"
      ]
     },
     "execution_count": 77,
     "metadata": {},
     "output_type": "execute_result"
    }
   ],
   "source": []
  },
  {
   "cell_type": "code",
   "execution_count": 78,
   "metadata": {},
   "outputs": [
    {
     "data": {
      "text/plain": [
       "tensor([[ 4.6622e-01, -8.8706e-01,  6.4478e-01,  1.2643e+00, -5.3926e-01,\n",
       "          1.5800e+00, -1.1016e+00, -1.1637e+00,  1.2379e+00,  2.2707e+00],\n",
       "        [-1.2014e+00, -1.3730e+00, -7.8585e-02, -1.3541e+00, -8.4838e-01,\n",
       "          3.7394e+00,  3.4827e-01,  9.6918e-01, -9.8005e-01, -1.2968e+00],\n",
       "        [ 2.0316e-01, -7.2254e-01, -1.4535e+00,  2.7644e+00, -1.5665e+00,\n",
       "         -1.5133e+00, -4.8308e-01,  3.8107e+00, -2.0801e-01,  1.4802e+00],\n",
       "        [-1.2401e+00, -1.5839e+00, -1.3516e+00, -8.1044e-01,  7.7275e-03,\n",
       "         -1.2508e+00,  1.1936e+00, -1.3482e+00,  4.4948e+00, -2.0269e-01],\n",
       "        [-1.0409e+00, -1.0294e+00,  8.1074e-01, -1.1016e-01,  2.2879e+00,\n",
       "          2.0162e-01,  1.9725e+00,  1.0915e-01, -7.0554e-01, -4.2582e-01],\n",
       "        [-9.5601e-01, -2.2194e-01, -1.2329e+00, -4.2091e-01, -6.2081e-01,\n",
       "         -7.2683e-01,  3.2571e+00, -1.5318e+00,  3.5431e+00, -1.1762e+00],\n",
       "        [-7.0740e-01, -1.3561e+00,  1.9255e+00, -6.9592e-01, -8.2602e-01,\n",
       "          3.3762e+00, -1.4898e-01, -1.1543e+00, -1.0598e+00, -8.4790e-01],\n",
       "        [ 1.4188e-01, -6.3126e-01, -6.6305e-02, -5.5773e-02, -7.6318e-01,\n",
       "         -8.7247e-01, -1.0306e+00, -1.2201e+00,  2.7231e+00,  1.6806e+00],\n",
       "        [ 1.3659e+00,  3.2793e+00,  1.9835e+00,  2.1197e-02, -3.9180e-01,\n",
       "         -9.4405e-01, -9.8586e-01,  1.0291e-01, -1.3501e+00, -1.0523e+00],\n",
       "        [-8.1965e-01,  2.2122e-02,  2.4088e+00, -1.0528e+00, -9.8690e-01,\n",
       "          9.7969e-01,  9.0650e-01, -6.9503e-01, -1.1254e+00, -1.0428e+00],\n",
       "        [-8.3651e-01,  6.5046e-01,  1.4367e-02,  2.2661e-01,  2.3034e+00,\n",
       "          1.5126e-01, -4.6175e-01, -8.1292e-01, -3.7214e-01, -4.2033e-01],\n",
       "        [-7.9468e-01, -1.1997e+00,  2.8436e+00,  6.2037e-02,  4.4524e+00,\n",
       "          7.0316e-02, -1.5607e+00,  2.3107e+00,  1.1777e+00,  1.5927e+00],\n",
       "        [-6.4479e-01, -1.6838e-01,  3.4826e+00, -1.2532e+00, -6.9276e-01,\n",
       "         -1.0939e+00, -1.3808e+00,  6.4697e-01, -1.3678e+00, -8.9319e-01],\n",
       "        [-1.9778e-01, -1.0711e+00, -7.4857e-01,  1.5306e+00,  1.4101e+00,\n",
       "         -7.8178e-01, -1.0295e+00,  5.9887e-02,  3.0263e+00, -9.2584e-01],\n",
       "        [ 1.7073e+00,  1.0119e+01,  1.5855e-01,  2.9744e+00, -2.1499e+00,\n",
       "          3.5193e+00, -2.0291e+00, -1.6836e+00,  4.0394e-01, -6.9536e-01],\n",
       "        [ 2.0513e+00, -1.2422e+00,  2.5743e+00, -1.7177e+00,  6.7942e+00,\n",
       "         -3.2262e-01, -1.8752e+00, -1.7734e+00, -2.0036e+00, -1.7362e+00]])"
      ]
     },
     "execution_count": 78,
     "metadata": {},
     "output_type": "execute_result"
    }
   ],
   "source": [
    "torch.exp(x) - torch.max(x, dim=1).values"
   ]
  },
  {
   "cell_type": "code",
   "execution_count": 116,
   "metadata": {},
   "outputs": [
    {
     "data": {
      "text/plain": [
       "512"
      ]
     },
     "execution_count": 116,
     "metadata": {},
     "output_type": "execute_result"
    }
   ],
   "source": [
    "tokenizer.model_max_length"
   ]
  },
  {
   "cell_type": "code",
   "execution_count": null,
   "metadata": {},
   "outputs": [],
   "source": []
  }
 ],
 "metadata": {
  "interpreter": {
   "hash": "c90e30c2b7961fb97c896d6f081d6fe926e201bd9b65942b4a0d17f0894f15cb"
  },
  "kernelspec": {
   "display_name": "Python 3.9.12 ('transformers_dev')",
   "language": "python",
   "name": "python3"
  },
  "language_info": {
   "codemirror_mode": {
    "name": "ipython",
    "version": 3
   },
   "file_extension": ".py",
   "mimetype": "text/x-python",
   "name": "python",
   "nbconvert_exporter": "python",
   "pygments_lexer": "ipython3",
   "version": "3.9.12"
  },
  "orig_nbformat": 4
 },
 "nbformat": 4,
 "nbformat_minor": 2
}
