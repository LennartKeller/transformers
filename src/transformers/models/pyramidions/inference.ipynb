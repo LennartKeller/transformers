{
 "cells": [
  {
   "cell_type": "code",
   "execution_count": 22,
   "metadata": {},
   "outputs": [],
   "source": [
    "from transformers import EncoderDecoderModel, RobertaTokenizerFast"
   ]
  },
  {
   "cell_type": "code",
   "execution_count": 23,
   "metadata": {},
   "outputs": [],
   "source": [
    "model = EncoderDecoderModel.from_pretrained(\"pyramidion-3layer-mlsum\")\n",
    "tokenizer = RobertaTokenizerFast.from_pretrained(\"pyramidion-3layer-mlsum\")"
   ]
  },
  {
   "cell_type": "code",
   "execution_count": 25,
   "metadata": {},
   "outputs": [],
   "source": [
    "article1 = \"\"\"\n",
    "Der Vater des britischen Premierministers Boris Johnson ist Franzose geworden. Er habe die Staatsbürgerschaft aufgrund seines Antrags erhalten, teilte das Justizministerium am Donnerstag mit. »Dies hat keine Auswirkung auf seine Nachkommen«, betonte das Ministerium. Der französische Konsul in London wolle ihm die Urkunde seiner Staatsbürgerschaft persönlich überreichen.\n",
    "\n",
    "Der 81-Jährige ist in Großbritannien als Kind einer französischen Mutter geboren. Er begründete seinen Antrag damit, dass er trotz des Brexits eine Verbindung zur EU behalten wolle. »Ich werde immer Europäer sein«, hatte er in einem Interview gesagt. Er sei durch seine Mutter immer schon Franzose gewesen. »Ich verlange nur, was ich eigentlich längst habe«, sagte er. Stanley Johnson war 1979 bis 1984 EU-Abgeordneter.\n",
    "\n",
    "Nach französischem Recht erlischt der Anspruch auf die Staatsbürgerschaft für Kinder französischer Eltern, wenn die Familie mehr als 50 Jahre im Ausland lebt. Sie können sie aber – so wie Johnsons Vater es getan hat – durch eine Erklärung ihrer Verbindungen nach Frankreich erneut beantragen.\n",
    "\"\"\"\n",
    "\n",
    "\n",
    "article2 = \"\"\"\n",
    "Die Menschen in vielen Regionen Deutschlands müssen sich auf heftige Unwetter einstellen. Am Freitagvormittag soll es zunächst nur vereinzelte Gewitter geben - vorrangig in einem Streifen von Mosel und Main bis zum Erzgebirge, lokal mit Starkregen und Hagel. Später jedoch wird es ungemütlich - vor allem im Westen des Landes.\n",
    "\n",
    "Für Nordrhein-Westfalen und Rheinland-Pfalz sagt der DWD schwere Gewitter mit erhöhter Unwettergefahr voraus. Gebietsweise drohe heftiger, punktuell auch extrem heftiger Starkregen mit bis zu 40 Litern pro Quadratmeter in kurzer Zeit. Größerer Hagel mit einer Korngröße von fünf Zentimetern im Durchmesser und teils schwere Sturmböen um 95 Kilometer pro Stunde seien möglich, lokal auch Orkanböen um 120 Kilometer in der Stunde (Windstärke zwölf). Die Meteorologen schließen auch vereinzelte Tornados nicht aus.\n",
    "\n",
    "Am Freitagnachmittag ziehen die Gewitter dann ostwärts, am Abend kann es auch im Süden des Landes einzelne kräftige Gewitter mit Unwetterpotenzial vor allem durch Starkregen und Hagel geben. Die höchsten Temperaturen liegen am Freitag zwischen 20 Grad an der See, schwülwarmen 27 Grad in der Mitte und heißen 34 Grad am Oberrhein.\n",
    "\n",
    "Alle Schulen im Kreis Ahrweiler bleiben geschlossen\n",
    "\n",
    "Angesichts der Wetterprognosen aktiviert das Landesamt für Natur und Umwelt in NRW den Hochwasserinformationsdienst: Die Niederschläge könnten sich auf die Abflüsse in den Gewässern im Land auswirken. Eine konkrete Vorhersage sei noch nicht möglich. In von Starkregen betroffenen Gebieten könne es zu örtlichen Überflutungen kommen.\n",
    "\n",
    "Wegen der Warnung vor Starkregen und Sturmböen bleiben am Freitag alle Schulen in Trägerschaft des Kreises Ahrweiler in Rheinland-Pfalz geschlossen. Der Kreis appellierte zudem an Eltern, Kita-Kinder zu Hause zu betreuen. Die Bevölkerung solle die weiteren Wettervorhersagen im Radio, TV und Internet sowie über die Warnapps Katwarn und Nina mit besonderer Aufmerksamkeit verfolgen. Bei der Hochwasserkatastrophe im Ahrtal kamen im Juli 2021 nach extremem Starkregen 134 Menschen ums Leben und Tausende Häuser wurden verwüstet. Bis heute leben viele Menschen in Ausweichquartieren.\n",
    "\n",
    "In der Nacht zum Freitag hatte sich die Wetterlage in Deutschland zunächst etwas beruhigt. Die Schäden nach den Gewittern am Donnerstag waren weniger schwer als zunächst erwartet. Gegen Mitternacht hob der DWD die bestehenden Unwetterwarnungen auf. In der Nacht gab es vor allem in Franken noch einzelne, teils kräftige Gewitter mit Starkregen, kleinerem Hagel und Sturmböen mit bis zu 80 Stundenkilometern.\n",
    "\"\"\"\n",
    "\n",
    "article3 = \"\"\"\n",
    "Die Steuereinnahmen von Bund und Ländern sind im April kräftig gestiegen - allerdings langsamer als in den Vormonaten. Laut dem Monatsbericht des Bundesfinanzministeriums sind die Auswirkungen des Kriegs in der Ukraine im Steueraufkommen noch nicht sichtbar. Die Einnahmen lagen bei fast 57 Milliarden Euro und damit um 9,9 Prozent höher als im April des vergangenen Jahres. Für die ersten vier Monate des Jahres 2022 bedeutet das einen Anstieg um 16,2 Prozent auf ein Steueraufkommen von fast 260 Milliarden Euro. Die Umsatzsteuer-Einnahmen stiegen dabei mit einem Zuwachs von einem Drittel deutlich mehr als jene aus der Lohnsteuer, die um knapp 10 Prozent stiegen.\n",
    "\n",
    "Ausblick bis Mitte des Jahres getrübt Den Sprung in den Einnahmen erklärt das Ministerium mit der durch die Corona-Pandemie noch besonders geschwächte wirtschaftliche Lage im Vorjahr. Dies hätte nun zu den spürbaren Zuwachsraten geführt. Allerdings warnt das Ministerium für die kommenden Monate vor erheblichen Risiken. Besonders bis Mitte des Jahres könne nur von einer verhaltenen konjunkturellen Entwicklung ausgegangen werden. Der Krieg in der Ukraine und die andauernde Pandemie würden den Ausblick trüben. Aber auch die weiter ungewisse Situation in China und die daraus resultierenden Störungen der Lieferketten prägten die Prognosen stark. \"Verschärfte Materialengpässe, weiter erhöhter Preisdruck, die derzeit hohe (globale) Unsicherheit sowie Folgen der Lockdowns in China dürften sich spürbar bemerkbar machen\", warnt das Ministerium. Ab Juli könne aber davon ausgegangen werden, dass es weniger Engpässe in den Lieferketten und in Deutschland keine zusätzlichen wirtschaftlichen Belastungen durch den Krieg geben werde. Das Ministerium rechne dann mit einer spürbaren konjunkturellen Aufwärtsbewegung.\n",
    "\n",
    "Konjunktur-Prognose sinkt Für das Gesamtjahr senkt die Bundesregierung ihre Prognose. Im Januar erwartete sie noch ein Wirtschaftswachstum von 3,6 Prozent für 2022. Mittlerweile sieht sie ein Wachstum von nur noch 2,2 Prozent. Allerdings könnten die Steuereinnahmen höher sein als noch vergangenes Jahr gedacht. Der Arbeitskreis Steuerschätzung rechnet bis 2026 mit zusätzlichen Einnahmen für den Fiskus von 220 Milliarden Euro. Trotzdem plant der Bund für das laufende Jahr die zweithöchste Neuverschuldung in der Geschichte der Bundesrepublik. Der Haushaltsentwurf für 2022 sehe eine Nettokreditaufnahme von 138,94 Milliarden Euro vor. Grund dafür seien die Folgen der Corona-Pandemie und des Krieges in der Ukraine.\n",
    "\"\"\"\n",
    "\n",
    "article4 = \"\"\"\n",
    "Sein eigener Vater hat ihn verpfiffen, wegen Wladimir Putin, damit hatte er nicht gerechnet. Für Konstantin Trudnik war das ein Schock. Trudnik ist 36, ein IT-Experte aus der südrussischen Stadt Krasnodar unweit des Schwarzen Meeres, und mit Fahrrädern kennt er sich auch aus. Er setzte sich seit Jahren für Velosharing ein, für die Rechte von Radfahrern, den Bau von Radwegen. Er sagt am Telefon: \"Alles was die Gesellschaft betrifft, ist in Russland schon politisch, selbst wenn es um städtische Probleme geht.\"\n",
    "\n",
    "Mit seinen Eltern hat sich Trudnik schon lange nicht mehr gut verstanden. Als er vor zwei Jahren für den Stadtrat kandidieren wollte, als Kandidat der Opposition, eskalierte der Streit. Für seine Eltern sei Politik eine schmutzige Sache, sagt er. Einmal war der Knall zwischen ihnen so heftig, dass die Polizei kommen musste. Kurz darauf erfuhr Trudnik, dass sein Vater ihn bei der Polizei angezeigt habe, weil er, der Sohn, gegen Präsident Putin sei, weil er dessen politischen Kurs nicht mittrage und deshalb verurteilt werden müsse. So weit ließ es Trudnik nicht kommen. Am 6. März setzte er sich nach Georgien ab. \"Ich habe es einfach nicht mehr ausgehalten\", sagt er: \"Es ist wieder wie zu Sowjetzeiten.\"\n",
    "\n",
    "Trudnik kann es nicht fassen, dass ausgerechnet sein Vater ihn angezeigt hat. Dessen Familie musste in den Fünfzigerjahren selbst umziehen, nachdem sie aus religiösen Gründen denunziert worden war. In der Sowjetunion herrschte offiziell Atheismus, die Familie lebte am Ural, dann flüchtete sie nach Krasnodar. Sich zur Religion zu bekennen, ist jetzt weniger riskant, wenn es nicht etwa die Zeugen Jehovas sind, die in Russland als extremistische Gruppierung eingestuft werden. Dafür gibt es andere Gesetzesartikel, die heikel sind, sehr dehnbar und für Kritiker eine ständig lauernde Gefahr. Sie reicht tief in die russische Gesellschaft.\n",
    "\n",
    "Putin nennt es \"Selbstreinigung der Gesellschaft\"\n",
    "\n",
    "Kritik an der russischen Armee, an Staatsorganen, angebliche falsche Nachrichten über den Krieg in der Ukraine, der in Russland nur als Spezialoperation bezeichnet werden darf - all dies kann Bürgern schnell zum Verhängnis werden. Vor allem, wenn Mitbürger dabei helfen und solche Fälle melden. Putin selbst hatte im März von einer notwendigen \"Selbstreinigung der Gesellschaft\" gesprochen. Russische Medien berichteten etwa, dass der Fahrer eines Linienbusses anhielt und die Polizei rief, weil jemand Aufkleber mit dem Buchstaben Z abzog. Allein der Anfang März in Eile gebilligte Gesetzartikel, der angebliche Falschinformationen über die russischen Streitkräfte mit bis zu 15 Jahren Haft bestraft, hat schon zu mehreren Dutzend Strafrechtsfällen geführt.\n",
    "\n",
    "Denunziationen hat es in Russland immer wieder gegeben. \"Stukatsch\" ist das berüchtigte Wort für einen \"Klopfer\", Spitzel, für jemanden, der in sowjetischen Zeiten einen Bekannten, Nachbarn oder sonst einen Verdächtigen bei den Behörden verriet. Das private Spitzeln war als Teil des Repressionsapparats weit verbreitet und hat zu vielen Verurteilungen vor allem in der Stalinzeit geführt. Anfang der 2000er-Jahre gab es eine neue Phase. Damals, vor allem nach der Geiselnahme in einer Schule im nordkaukasischen Beslan, wurden die Bürger aufgerufen, wachsam zu sein und verdächtige Beobachtungen dem Staat zu melden. Bürgerrechtler erinnerte das schon damals bedenklich an vergangene Stalinzeiten, trotz der neuen Bedrohung durch Terroranschläge.\n",
    "\n",
    "Schüler zeichneten kritische Worte einer Lehrerin auf\n",
    "\n",
    "Jetzt nehmen Denunziationen wieder zu. Und damit auch die Frage, wem die Menschen vertrauen. Vor allem seit Kriegsbeginn im Februar. \"Es ist wie vor hundert Jahren\", sagt die Strafrechtsexpertin Olga Romanowa von der Organisation \"Russland hinter Gittern\". Aber sie sieht einen Unterschied: \"Jetzt sind es leider viele Kinder, die so etwas tun.\" Sie meint Schüler, die Lehrer melden.\n",
    "\n",
    "Irina Gen etwa, eine Lehrerin aus Pensa südöstlich von Moskau. Sie hatte vor der Klasse über einen russischen Luftschlag gesprochen, bei dem ein ukrainisches Krankenhaus in Mariupol getroffen wurde. Schüler zeichneten es auf und veröffentlichten es. Gegen Irina Gen wurde ermittelt. Ähnliche Fälle wurden von der Pazifikinsel Sachalin berichtet, aus Nowosibirsk und der sibirischen Stadt Nerjungri. Es muss nicht mit Gefängnis enden, manchmal sind es Geldstrafen, oft die Entlassung.\n",
    "\n",
    "Olga Romanowa kennt noch die Sowjetunion aus eigener Erfahrung, sie war Pionierin, ihre Eltern hörten nachts BBC, Voice of America und Radio Liberty. \"Sie sagten damals: Erzähl niemandem, was du zu Hause hörst.\" Über Politik, sagt sie, konnte man damals nur \"mit sehr, sehr engen Freunden reden\", selbst dies nur vorsichtig. Viele offene Gespräche fanden in der Sowjetunion zu Hause in der Küche statt oder beim Spaziergang.\n",
    "\n",
    "Eine neue Jugendbewegung entsteht\n",
    "\n",
    "Neu ist nach Ansicht Romanowas, dass jetzt in Russland eine Generation entsteht, für die das Denunzieren normal sei. Sie sagt, das habe mit der Militarisierung der Jugend zu tun, die unter Putin zugenommen hat. Dessen Vertrauter, Verteidigungsminister Sergej Schojgu, hat bereits 2016 die Organisation Junarmija gegründet, mit der die russische Jugend militärisch-patriotisch erzogen wird. An diesem Donnerstag, zum 100. Geburtstag der sowjetischen Pioniere, wurde zudem eine neue landesweite Kinder- und Jugendbewegung gebildet, die von Putin unterstützt werde, schrieb die Zeitung RBK. Sie soll staatliche Politik \"im Interesse der Kinder\" durchführen, wie es in einem Gesetzentwurf heißt. Auch dies passe ins Bild einer neuen Generation, sagt Olga Romanowa. Für kritische Lehrerinnen könnte das künftig noch mehr Vorsicht bedeuten, bei dem, was sie vor ihren Schülern sagen. Oder in den Pausen.\n",
    "\n",
    "Ein Videoanruf bei Jelena Baibekowa, einer russischen Mathe-Lehrerin. Sie lebt in Astrachan am Wolgadelta, dort, wo Europas längster Fluss nach Tausenden Kilometern in das Kaspische Meer mündet. Baibekowa arbeitete an der Schule Nr. 59, als sie am 1. April entlassen wurde. Wenn stimmt, was der Schuldirektor ihr vorwarf, hat sie vor Schülern des ältesten Jahrgangs kritisch über den aktuellen Kurs der Moskauer Politik gesprochen. Schüler hätten sie denunziert.\n",
    "\n",
    "Sie sagt, das stimme nicht. Erstens, weil sie auf ihre Schüler selbst nichts kommen lasse und hinter solchen Anzeigen bei der Polizei oft Eltern stünden. Zweitens, weil sie ohnehin über nichts dergleichen im Unterricht gesprochen habe. Baibekowa sagt: \"Mir gefällt der Staat schon lange nicht mehr.\" Sie sei zwei Tage vor Kriegsbeginn, als Moskau die ostukrainischen Gebiete Donezk und Luhansk als unabhängig anerkannte, auf eine Demonstration gegangen. Sie hat auch zwei Handtücher in den Farben Gelb und Blau an ihre Balkonbrüstung gehängt. Und als sie ihre Stelle antrat, schlug sie gleich offensiv vor, was die Schule gegen Korruption, zur Sanierung von Gebäudeschäden und für eine bessere Förderung schwacher Schüler tun könnte. Sie vermutet, dass sie schon länger auf einer Liste gestanden habe, der Druck gegen sie größer und die Denunziation vorgeschoben worden sei.\n",
    "\n",
    "Das Problem des Denunzierens hält Jelena Baibekowa für gravierend. Die Lehrerin erzählt, dass sie viel über Stalins Repressionen gelesen habe, weil ihre Familie unter ihnen gelitten hat. Ihr Großvater wurde nach einer Denunzierung 1937 erschossen. \"Ich hatte immer gedacht, das ist alles so weit weg von uns. Und jetzt rückt es immer näher\", sagt sie. Auch wenn es natürlich nicht wie 1937 sei. Baibekowa versucht, mit Bekannten über Politik erst gar nicht zu reden. Sie spricht von Spaziergängen mit ihrem Mann, dass sie sich ertappt hat, wie sie zusammen am Hauseingang stehen und sie ihren Mann unterbricht: \"Hier lieber nicht, lass uns zu Hause darüber reden.\"\n",
    "\"\"\""
   ]
  },
  {
   "cell_type": "code",
   "execution_count": 26,
   "metadata": {},
   "outputs": [],
   "source": [
    "articles = [article1, article2, article3, article4]"
   ]
  },
  {
   "cell_type": "code",
   "execution_count": 27,
   "metadata": {},
   "outputs": [],
   "source": [
    "inputs = tokenizer(articles, padding=\"max_length\", truncation=True, return_tensors=\"pt\")"
   ]
  },
  {
   "cell_type": "code",
   "execution_count": 28,
   "metadata": {},
   "outputs": [],
   "source": [
    "generated_ids = model.generate(**inputs, min_length=20, max_length=80)"
   ]
  },
  {
   "cell_type": "code",
   "execution_count": 29,
   "metadata": {},
   "outputs": [
    {
     "name": "stdout",
     "output_type": "stream",
     "text": [
      "Der französische Premierminister hatte seine Staatsbürgerschaft aufgrund seines Antrags abgelehnt. Er habe die Staatsbürgerschaft aufgrund seines Antrags erhalten, teilte das Justizministerium.\n",
      "\n",
      "Am Freitagvormittag soll es zunächst nur vereinzelte Gewitter geben - vorrangig in einem Streifen von Mosel und Main und Main bis zum Erzgebirge, lokal mit Starkregen und Main bis zum Erzgebirge, lokal mit Starkregen und Hagel. Später jedoch wird es ungemütlich - vor allem im Westen des Landes.\n",
      "\n",
      "Die Steuereinnahmen von Bund und Ländern sind im April kräftig gestiegen - allerdings langsamer als in den Vormonaten.\n",
      "\n",
      "Der ehemalige Präsident des Landes ist in der Stadt Krasnodar eine politische Debatte. Er ist der erste Staat, die ihm nicht zu tun hat.\n",
      "\n"
     ]
    }
   ],
   "source": [
    "for g in generated_ids:\n",
    "    print(tokenizer.decode(g, skip_special_tokens=True), end=\"\\n\\n\")"
   ]
  },
  {
   "cell_type": "code",
   "execution_count": 33,
   "metadata": {},
   "outputs": [
    {
     "name": "stdout",
     "output_type": "stream",
     "text": [
      "\n",
      "Die Menschen in vielen Regionen Deutschlands müssen sich auf heftige Unwetter einstellen. Am Freitagvormittag soll es zunächst nur vereinzelte Gewitter geben - vorrangig in einem Streifen von Mosel und Main bis zum Erzgebirge, lokal mit Starkregen und Hagel. Später jedoch wird es ungemütlich - vor allem im Westen des Landes.\n",
      "\n",
      "Für Nordrhein-Westfalen und Rheinland-Pfalz sagt der DWD schwere Gewitter mit erhöhter Unwettergefahr voraus. Gebietsweise drohe heftiger, punktuell auch extrem heftiger Starkregen mit bis zu 40 Litern pro Quadratmeter in kurzer Zeit. Größerer Hagel mit einer Korngröße von fünf Zentimetern im Durchmesser und teils schwere Sturmböen um 95 Kilometer pro Stunde seien möglich, lokal auch Orkanböen um 120 Kilometer in der Stunde (Windstärke zwölf). Die Meteorologen schließen auch vereinzelte Tornados nicht aus.\n",
      "\n",
      "Am Freitagnachmittag ziehen die Gewitter dann ostwärts, am Abend kann es auch im Süden des Landes einzelne kräftige Gewitter mit Unwetterpotenzial vor allem durch Starkregen und Hagel geben. Die höchsten Temperaturen liegen am Freitag zwischen 20 Grad an der See, schwülwarmen 27 Grad in der Mitte und heißen 34 Grad am Oberrhein.\n",
      "\n",
      "Alle Schulen im Kreis Ahrweiler bleiben geschlossen\n",
      "\n",
      "Angesichts der Wetterprognosen aktiviert das Landesamt für Natur und Umwelt in NRW den Hochwasserinformationsdienst: Die Niederschläge könnten sich auf die Abflüsse in den Gewässern im Land auswirken. Eine konkrete Vorhersage sei noch nicht möglich. In von Starkregen betroffenen Gebieten könne es zu örtlichen Überflutungen kommen.\n",
      "\n",
      "Wegen der Warnung vor Starkregen und Sturmböen bleiben am Freitag alle Schulen in Trägerschaft des Kreises Ahrweiler in Rheinland-Pfalz geschlossen. Der Kreis appellierte zudem an Eltern, Kita-Kinder zu Hause zu betreuen. Die Bevölkerung solle die weiteren Wettervorhersagen im Radio, TV und Internet sowie über die Warnapps Katwarn und Nina mit besonderer Aufmerksamkeit verfolgen. Bei der Hochwasserkatastrophe im Ahrtal kamen im Juli 2021 nach extremem Starkregen 134 Menschen ums Leben und Tausende Häuser wurden verwüstet. Bis heute leben viele Menschen in Ausweichquartieren.\n",
      "\n",
      "In der Nacht zum Freitag hatte sich die Wetterlage in Deutschland zunächst etwas beruhigt. Die Schäden nach den Gewittern am Donnerstag waren weniger schwer als zunächst erwartet. Gegen Mitternacht hob der DWD die bestehenden Unwetterwarnungen auf. In der Nacht gab es vor allem in Franken noch einzelne, teils kräftige Gewitter mit Starkregen, kleinerem Hagel und Sturmböen mit bis zu 80 Stundenkilometern.\n",
      "\n"
     ]
    }
   ],
   "source": [
    "print(article2)"
   ]
  },
  {
   "cell_type": "code",
   "execution_count": 32,
   "metadata": {},
   "outputs": [
    {
     "name": "stdout",
     "output_type": "stream",
     "text": [
      "Am Freitagvormittag soll es zunächst nur vereinzelte Gewitter geben - vorrangig in einem Streifen von Mosel und Main und Main bis zum Erzgebirge, lokal mit Starkregen und Main bis zum Erzgebirge, lokal mit Starkregen und Hagel. Später jedoch wird es ungemütlich - vor allem im Westen des Landes.\n"
     ]
    }
   ],
   "source": [
    "print(tokenizer.decode(generated_ids[1], skip_special_tokens=True))"
   ]
  },
  {
   "cell_type": "code",
   "execution_count": null,
   "metadata": {},
   "outputs": [],
   "source": []
  }
 ],
 "metadata": {
  "interpreter": {
   "hash": "3c3fda8e4750bc437a65c13d44d4df4f03f166f59836e5a45ab335867c894d6f"
  },
  "kernelspec": {
   "display_name": "Python 3.9.12 ('transformers_dev')",
   "language": "python",
   "name": "python3"
  },
  "language_info": {
   "codemirror_mode": {
    "name": "ipython",
    "version": 3
   },
   "file_extension": ".py",
   "mimetype": "text/x-python",
   "name": "python",
   "nbconvert_exporter": "python",
   "pygments_lexer": "ipython3",
   "version": "3.9.12"
  },
  "orig_nbformat": 4
 },
 "nbformat": 4,
 "nbformat_minor": 2
}
